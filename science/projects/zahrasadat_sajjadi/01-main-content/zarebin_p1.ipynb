{
  "nbformat": 4,
  "nbformat_minor": 0,
  "metadata": {
    "colab": {
      "provenance": [],
      "collapsed_sections": [
        "-9D0GsaMaX8b"
      ],
      "toc_visible": true
    },
    "kernelspec": {
      "name": "python3",
      "display_name": "Python 3"
    },
    "language_info": {
      "name": "python"
    },
    "gpuClass": "standard",
    "widgets": {
      "application/vnd.jupyter.widget-state+json": {
        "aee9188279cf4f87aa65d1792d614575": {
          "model_module": "@jupyter-widgets/controls",
          "model_name": "HBoxModel",
          "model_module_version": "1.5.0",
          "state": {
            "_dom_classes": [],
            "_model_module": "@jupyter-widgets/controls",
            "_model_module_version": "1.5.0",
            "_model_name": "HBoxModel",
            "_view_count": null,
            "_view_module": "@jupyter-widgets/controls",
            "_view_module_version": "1.5.0",
            "_view_name": "HBoxView",
            "box_style": "",
            "children": [
              "IPY_MODEL_2ad9380cff9343dc860da17b18d250fe",
              "IPY_MODEL_adffb94fc3d94af4902fffea0c6ace49",
              "IPY_MODEL_f652d79c9b354d6187455d6010ff75e5"
            ],
            "layout": "IPY_MODEL_25702d60c53d43bf9ac553fa9da57fe4"
          }
        },
        "2ad9380cff9343dc860da17b18d250fe": {
          "model_module": "@jupyter-widgets/controls",
          "model_name": "HTMLModel",
          "model_module_version": "1.5.0",
          "state": {
            "_dom_classes": [],
            "_model_module": "@jupyter-widgets/controls",
            "_model_module_version": "1.5.0",
            "_model_name": "HTMLModel",
            "_view_count": null,
            "_view_module": "@jupyter-widgets/controls",
            "_view_module_version": "1.5.0",
            "_view_name": "HTMLView",
            "description": "",
            "description_tooltip": null,
            "layout": "IPY_MODEL_c49dc3ad226f4b3d822397c888f1f836",
            "placeholder": "​",
            "style": "IPY_MODEL_c5e4a7e9b9154af0bed0c7289b4837eb",
            "value": "100%"
          }
        },
        "adffb94fc3d94af4902fffea0c6ace49": {
          "model_module": "@jupyter-widgets/controls",
          "model_name": "FloatProgressModel",
          "model_module_version": "1.5.0",
          "state": {
            "_dom_classes": [],
            "_model_module": "@jupyter-widgets/controls",
            "_model_module_version": "1.5.0",
            "_model_name": "FloatProgressModel",
            "_view_count": null,
            "_view_module": "@jupyter-widgets/controls",
            "_view_module_version": "1.5.0",
            "_view_name": "ProgressView",
            "bar_style": "success",
            "description": "",
            "description_tooltip": null,
            "layout": "IPY_MODEL_685bf81aee514fc6b46c0fa3822d7f17",
            "max": 1959,
            "min": 0,
            "orientation": "horizontal",
            "style": "IPY_MODEL_a9261ab20f6141aab470b225e759c231",
            "value": 1959
          }
        },
        "f652d79c9b354d6187455d6010ff75e5": {
          "model_module": "@jupyter-widgets/controls",
          "model_name": "HTMLModel",
          "model_module_version": "1.5.0",
          "state": {
            "_dom_classes": [],
            "_model_module": "@jupyter-widgets/controls",
            "_model_module_version": "1.5.0",
            "_model_name": "HTMLModel",
            "_view_count": null,
            "_view_module": "@jupyter-widgets/controls",
            "_view_module_version": "1.5.0",
            "_view_name": "HTMLView",
            "description": "",
            "description_tooltip": null,
            "layout": "IPY_MODEL_1c21de98874c42dba19610361aa252c3",
            "placeholder": "​",
            "style": "IPY_MODEL_92b45efcf5844b36a55c0eb7b5755009",
            "value": " 1959/1959 [09:37&lt;00:00,  4.85it/s]"
          }
        },
        "25702d60c53d43bf9ac553fa9da57fe4": {
          "model_module": "@jupyter-widgets/base",
          "model_name": "LayoutModel",
          "model_module_version": "1.2.0",
          "state": {
            "_model_module": "@jupyter-widgets/base",
            "_model_module_version": "1.2.0",
            "_model_name": "LayoutModel",
            "_view_count": null,
            "_view_module": "@jupyter-widgets/base",
            "_view_module_version": "1.2.0",
            "_view_name": "LayoutView",
            "align_content": null,
            "align_items": null,
            "align_self": null,
            "border": null,
            "bottom": null,
            "display": null,
            "flex": null,
            "flex_flow": null,
            "grid_area": null,
            "grid_auto_columns": null,
            "grid_auto_flow": null,
            "grid_auto_rows": null,
            "grid_column": null,
            "grid_gap": null,
            "grid_row": null,
            "grid_template_areas": null,
            "grid_template_columns": null,
            "grid_template_rows": null,
            "height": null,
            "justify_content": null,
            "justify_items": null,
            "left": null,
            "margin": null,
            "max_height": null,
            "max_width": null,
            "min_height": null,
            "min_width": null,
            "object_fit": null,
            "object_position": null,
            "order": null,
            "overflow": null,
            "overflow_x": null,
            "overflow_y": null,
            "padding": null,
            "right": null,
            "top": null,
            "visibility": null,
            "width": null
          }
        },
        "c49dc3ad226f4b3d822397c888f1f836": {
          "model_module": "@jupyter-widgets/base",
          "model_name": "LayoutModel",
          "model_module_version": "1.2.0",
          "state": {
            "_model_module": "@jupyter-widgets/base",
            "_model_module_version": "1.2.0",
            "_model_name": "LayoutModel",
            "_view_count": null,
            "_view_module": "@jupyter-widgets/base",
            "_view_module_version": "1.2.0",
            "_view_name": "LayoutView",
            "align_content": null,
            "align_items": null,
            "align_self": null,
            "border": null,
            "bottom": null,
            "display": null,
            "flex": null,
            "flex_flow": null,
            "grid_area": null,
            "grid_auto_columns": null,
            "grid_auto_flow": null,
            "grid_auto_rows": null,
            "grid_column": null,
            "grid_gap": null,
            "grid_row": null,
            "grid_template_areas": null,
            "grid_template_columns": null,
            "grid_template_rows": null,
            "height": null,
            "justify_content": null,
            "justify_items": null,
            "left": null,
            "margin": null,
            "max_height": null,
            "max_width": null,
            "min_height": null,
            "min_width": null,
            "object_fit": null,
            "object_position": null,
            "order": null,
            "overflow": null,
            "overflow_x": null,
            "overflow_y": null,
            "padding": null,
            "right": null,
            "top": null,
            "visibility": null,
            "width": null
          }
        },
        "c5e4a7e9b9154af0bed0c7289b4837eb": {
          "model_module": "@jupyter-widgets/controls",
          "model_name": "DescriptionStyleModel",
          "model_module_version": "1.5.0",
          "state": {
            "_model_module": "@jupyter-widgets/controls",
            "_model_module_version": "1.5.0",
            "_model_name": "DescriptionStyleModel",
            "_view_count": null,
            "_view_module": "@jupyter-widgets/base",
            "_view_module_version": "1.2.0",
            "_view_name": "StyleView",
            "description_width": ""
          }
        },
        "685bf81aee514fc6b46c0fa3822d7f17": {
          "model_module": "@jupyter-widgets/base",
          "model_name": "LayoutModel",
          "model_module_version": "1.2.0",
          "state": {
            "_model_module": "@jupyter-widgets/base",
            "_model_module_version": "1.2.0",
            "_model_name": "LayoutModel",
            "_view_count": null,
            "_view_module": "@jupyter-widgets/base",
            "_view_module_version": "1.2.0",
            "_view_name": "LayoutView",
            "align_content": null,
            "align_items": null,
            "align_self": null,
            "border": null,
            "bottom": null,
            "display": null,
            "flex": null,
            "flex_flow": null,
            "grid_area": null,
            "grid_auto_columns": null,
            "grid_auto_flow": null,
            "grid_auto_rows": null,
            "grid_column": null,
            "grid_gap": null,
            "grid_row": null,
            "grid_template_areas": null,
            "grid_template_columns": null,
            "grid_template_rows": null,
            "height": null,
            "justify_content": null,
            "justify_items": null,
            "left": null,
            "margin": null,
            "max_height": null,
            "max_width": null,
            "min_height": null,
            "min_width": null,
            "object_fit": null,
            "object_position": null,
            "order": null,
            "overflow": null,
            "overflow_x": null,
            "overflow_y": null,
            "padding": null,
            "right": null,
            "top": null,
            "visibility": null,
            "width": null
          }
        },
        "a9261ab20f6141aab470b225e759c231": {
          "model_module": "@jupyter-widgets/controls",
          "model_name": "ProgressStyleModel",
          "model_module_version": "1.5.0",
          "state": {
            "_model_module": "@jupyter-widgets/controls",
            "_model_module_version": "1.5.0",
            "_model_name": "ProgressStyleModel",
            "_view_count": null,
            "_view_module": "@jupyter-widgets/base",
            "_view_module_version": "1.2.0",
            "_view_name": "StyleView",
            "bar_color": null,
            "description_width": ""
          }
        },
        "1c21de98874c42dba19610361aa252c3": {
          "model_module": "@jupyter-widgets/base",
          "model_name": "LayoutModel",
          "model_module_version": "1.2.0",
          "state": {
            "_model_module": "@jupyter-widgets/base",
            "_model_module_version": "1.2.0",
            "_model_name": "LayoutModel",
            "_view_count": null,
            "_view_module": "@jupyter-widgets/base",
            "_view_module_version": "1.2.0",
            "_view_name": "LayoutView",
            "align_content": null,
            "align_items": null,
            "align_self": null,
            "border": null,
            "bottom": null,
            "display": null,
            "flex": null,
            "flex_flow": null,
            "grid_area": null,
            "grid_auto_columns": null,
            "grid_auto_flow": null,
            "grid_auto_rows": null,
            "grid_column": null,
            "grid_gap": null,
            "grid_row": null,
            "grid_template_areas": null,
            "grid_template_columns": null,
            "grid_template_rows": null,
            "height": null,
            "justify_content": null,
            "justify_items": null,
            "left": null,
            "margin": null,
            "max_height": null,
            "max_width": null,
            "min_height": null,
            "min_width": null,
            "object_fit": null,
            "object_position": null,
            "order": null,
            "overflow": null,
            "overflow_x": null,
            "overflow_y": null,
            "padding": null,
            "right": null,
            "top": null,
            "visibility": null,
            "width": null
          }
        },
        "92b45efcf5844b36a55c0eb7b5755009": {
          "model_module": "@jupyter-widgets/controls",
          "model_name": "DescriptionStyleModel",
          "model_module_version": "1.5.0",
          "state": {
            "_model_module": "@jupyter-widgets/controls",
            "_model_module_version": "1.5.0",
            "_model_name": "DescriptionStyleModel",
            "_view_count": null,
            "_view_module": "@jupyter-widgets/base",
            "_view_module_version": "1.2.0",
            "_view_name": "StyleView",
            "description_width": ""
          }
        },
        "12b84ea3074843af858752b957f0b913": {
          "model_module": "@jupyter-widgets/controls",
          "model_name": "HBoxModel",
          "model_module_version": "1.5.0",
          "state": {
            "_dom_classes": [],
            "_model_module": "@jupyter-widgets/controls",
            "_model_module_version": "1.5.0",
            "_model_name": "HBoxModel",
            "_view_count": null,
            "_view_module": "@jupyter-widgets/controls",
            "_view_module_version": "1.5.0",
            "_view_name": "HBoxView",
            "box_style": "",
            "children": [
              "IPY_MODEL_e13254ec209f4187bdc1cc4d9f31bc1f",
              "IPY_MODEL_5a6c10bcfd5844d2a1ea05a26cbb7228",
              "IPY_MODEL_2e1ac31db7624466b0b4128eca550af0"
            ],
            "layout": "IPY_MODEL_1ef0422bfb0f4a37965b91530e1c3be3"
          }
        },
        "e13254ec209f4187bdc1cc4d9f31bc1f": {
          "model_module": "@jupyter-widgets/controls",
          "model_name": "HTMLModel",
          "model_module_version": "1.5.0",
          "state": {
            "_dom_classes": [],
            "_model_module": "@jupyter-widgets/controls",
            "_model_module_version": "1.5.0",
            "_model_name": "HTMLModel",
            "_view_count": null,
            "_view_module": "@jupyter-widgets/controls",
            "_view_module_version": "1.5.0",
            "_view_name": "HTMLView",
            "description": "",
            "description_tooltip": null,
            "layout": "IPY_MODEL_68fa60b0a4bb415084cd9da503dd0249",
            "placeholder": "​",
            "style": "IPY_MODEL_f2bcf26eaece4c83a75b0de7b25de3d8",
            "value": "100%"
          }
        },
        "5a6c10bcfd5844d2a1ea05a26cbb7228": {
          "model_module": "@jupyter-widgets/controls",
          "model_name": "FloatProgressModel",
          "model_module_version": "1.5.0",
          "state": {
            "_dom_classes": [],
            "_model_module": "@jupyter-widgets/controls",
            "_model_module_version": "1.5.0",
            "_model_name": "FloatProgressModel",
            "_view_count": null,
            "_view_module": "@jupyter-widgets/controls",
            "_view_module_version": "1.5.0",
            "_view_name": "ProgressView",
            "bar_style": "success",
            "description": "",
            "description_tooltip": null,
            "layout": "IPY_MODEL_11ce5f956f824d748539bc73f110ddab",
            "max": 4169,
            "min": 0,
            "orientation": "horizontal",
            "style": "IPY_MODEL_c787a498add440e09788660ad036e335",
            "value": 4169
          }
        },
        "2e1ac31db7624466b0b4128eca550af0": {
          "model_module": "@jupyter-widgets/controls",
          "model_name": "HTMLModel",
          "model_module_version": "1.5.0",
          "state": {
            "_dom_classes": [],
            "_model_module": "@jupyter-widgets/controls",
            "_model_module_version": "1.5.0",
            "_model_name": "HTMLModel",
            "_view_count": null,
            "_view_module": "@jupyter-widgets/controls",
            "_view_module_version": "1.5.0",
            "_view_name": "HTMLView",
            "description": "",
            "description_tooltip": null,
            "layout": "IPY_MODEL_c0c47a22036e42cd82d096a7ed7425dc",
            "placeholder": "​",
            "style": "IPY_MODEL_6d7bce100c5f42e6917d6ab87a2abb90",
            "value": " 4169/4169 [08:01&lt;00:00, 18.65it/s]"
          }
        },
        "1ef0422bfb0f4a37965b91530e1c3be3": {
          "model_module": "@jupyter-widgets/base",
          "model_name": "LayoutModel",
          "model_module_version": "1.2.0",
          "state": {
            "_model_module": "@jupyter-widgets/base",
            "_model_module_version": "1.2.0",
            "_model_name": "LayoutModel",
            "_view_count": null,
            "_view_module": "@jupyter-widgets/base",
            "_view_module_version": "1.2.0",
            "_view_name": "LayoutView",
            "align_content": null,
            "align_items": null,
            "align_self": null,
            "border": null,
            "bottom": null,
            "display": null,
            "flex": null,
            "flex_flow": null,
            "grid_area": null,
            "grid_auto_columns": null,
            "grid_auto_flow": null,
            "grid_auto_rows": null,
            "grid_column": null,
            "grid_gap": null,
            "grid_row": null,
            "grid_template_areas": null,
            "grid_template_columns": null,
            "grid_template_rows": null,
            "height": null,
            "justify_content": null,
            "justify_items": null,
            "left": null,
            "margin": null,
            "max_height": null,
            "max_width": null,
            "min_height": null,
            "min_width": null,
            "object_fit": null,
            "object_position": null,
            "order": null,
            "overflow": null,
            "overflow_x": null,
            "overflow_y": null,
            "padding": null,
            "right": null,
            "top": null,
            "visibility": null,
            "width": null
          }
        },
        "68fa60b0a4bb415084cd9da503dd0249": {
          "model_module": "@jupyter-widgets/base",
          "model_name": "LayoutModel",
          "model_module_version": "1.2.0",
          "state": {
            "_model_module": "@jupyter-widgets/base",
            "_model_module_version": "1.2.0",
            "_model_name": "LayoutModel",
            "_view_count": null,
            "_view_module": "@jupyter-widgets/base",
            "_view_module_version": "1.2.0",
            "_view_name": "LayoutView",
            "align_content": null,
            "align_items": null,
            "align_self": null,
            "border": null,
            "bottom": null,
            "display": null,
            "flex": null,
            "flex_flow": null,
            "grid_area": null,
            "grid_auto_columns": null,
            "grid_auto_flow": null,
            "grid_auto_rows": null,
            "grid_column": null,
            "grid_gap": null,
            "grid_row": null,
            "grid_template_areas": null,
            "grid_template_columns": null,
            "grid_template_rows": null,
            "height": null,
            "justify_content": null,
            "justify_items": null,
            "left": null,
            "margin": null,
            "max_height": null,
            "max_width": null,
            "min_height": null,
            "min_width": null,
            "object_fit": null,
            "object_position": null,
            "order": null,
            "overflow": null,
            "overflow_x": null,
            "overflow_y": null,
            "padding": null,
            "right": null,
            "top": null,
            "visibility": null,
            "width": null
          }
        },
        "f2bcf26eaece4c83a75b0de7b25de3d8": {
          "model_module": "@jupyter-widgets/controls",
          "model_name": "DescriptionStyleModel",
          "model_module_version": "1.5.0",
          "state": {
            "_model_module": "@jupyter-widgets/controls",
            "_model_module_version": "1.5.0",
            "_model_name": "DescriptionStyleModel",
            "_view_count": null,
            "_view_module": "@jupyter-widgets/base",
            "_view_module_version": "1.2.0",
            "_view_name": "StyleView",
            "description_width": ""
          }
        },
        "11ce5f956f824d748539bc73f110ddab": {
          "model_module": "@jupyter-widgets/base",
          "model_name": "LayoutModel",
          "model_module_version": "1.2.0",
          "state": {
            "_model_module": "@jupyter-widgets/base",
            "_model_module_version": "1.2.0",
            "_model_name": "LayoutModel",
            "_view_count": null,
            "_view_module": "@jupyter-widgets/base",
            "_view_module_version": "1.2.0",
            "_view_name": "LayoutView",
            "align_content": null,
            "align_items": null,
            "align_self": null,
            "border": null,
            "bottom": null,
            "display": null,
            "flex": null,
            "flex_flow": null,
            "grid_area": null,
            "grid_auto_columns": null,
            "grid_auto_flow": null,
            "grid_auto_rows": null,
            "grid_column": null,
            "grid_gap": null,
            "grid_row": null,
            "grid_template_areas": null,
            "grid_template_columns": null,
            "grid_template_rows": null,
            "height": null,
            "justify_content": null,
            "justify_items": null,
            "left": null,
            "margin": null,
            "max_height": null,
            "max_width": null,
            "min_height": null,
            "min_width": null,
            "object_fit": null,
            "object_position": null,
            "order": null,
            "overflow": null,
            "overflow_x": null,
            "overflow_y": null,
            "padding": null,
            "right": null,
            "top": null,
            "visibility": null,
            "width": null
          }
        },
        "c787a498add440e09788660ad036e335": {
          "model_module": "@jupyter-widgets/controls",
          "model_name": "ProgressStyleModel",
          "model_module_version": "1.5.0",
          "state": {
            "_model_module": "@jupyter-widgets/controls",
            "_model_module_version": "1.5.0",
            "_model_name": "ProgressStyleModel",
            "_view_count": null,
            "_view_module": "@jupyter-widgets/base",
            "_view_module_version": "1.2.0",
            "_view_name": "StyleView",
            "bar_color": null,
            "description_width": ""
          }
        },
        "c0c47a22036e42cd82d096a7ed7425dc": {
          "model_module": "@jupyter-widgets/base",
          "model_name": "LayoutModel",
          "model_module_version": "1.2.0",
          "state": {
            "_model_module": "@jupyter-widgets/base",
            "_model_module_version": "1.2.0",
            "_model_name": "LayoutModel",
            "_view_count": null,
            "_view_module": "@jupyter-widgets/base",
            "_view_module_version": "1.2.0",
            "_view_name": "LayoutView",
            "align_content": null,
            "align_items": null,
            "align_self": null,
            "border": null,
            "bottom": null,
            "display": null,
            "flex": null,
            "flex_flow": null,
            "grid_area": null,
            "grid_auto_columns": null,
            "grid_auto_flow": null,
            "grid_auto_rows": null,
            "grid_column": null,
            "grid_gap": null,
            "grid_row": null,
            "grid_template_areas": null,
            "grid_template_columns": null,
            "grid_template_rows": null,
            "height": null,
            "justify_content": null,
            "justify_items": null,
            "left": null,
            "margin": null,
            "max_height": null,
            "max_width": null,
            "min_height": null,
            "min_width": null,
            "object_fit": null,
            "object_position": null,
            "order": null,
            "overflow": null,
            "overflow_x": null,
            "overflow_y": null,
            "padding": null,
            "right": null,
            "top": null,
            "visibility": null,
            "width": null
          }
        },
        "6d7bce100c5f42e6917d6ab87a2abb90": {
          "model_module": "@jupyter-widgets/controls",
          "model_name": "DescriptionStyleModel",
          "model_module_version": "1.5.0",
          "state": {
            "_model_module": "@jupyter-widgets/controls",
            "_model_module_version": "1.5.0",
            "_model_name": "DescriptionStyleModel",
            "_view_count": null,
            "_view_module": "@jupyter-widgets/base",
            "_view_module_version": "1.2.0",
            "_view_name": "StyleView",
            "description_width": ""
          }
        }
      }
    }
  },
  "cells": [
    {
      "cell_type": "code",
      "source": [
        "from bs4 import BeautifulSoup\n",
        "import re\n",
        "import os\n",
        "import pandas as pd \n",
        "import numpy as np \n",
        "import requests\n",
        "import csv\n",
        "import base64\n",
        "import glob\n",
        "from scipy.stats import zscore\n",
        "import pandas as pd\n",
        "from tqdm.notebook import tqdm\n",
        "from sklearn.preprocessing import LabelEncoder\n",
        "import warnings\n",
        "warnings.filterwarnings(\"ignore\")"
      ],
      "metadata": {
        "id": "Tshtd7tyk50H"
      },
      "execution_count": null,
      "outputs": []
    },
    {
      "cell_type": "markdown",
      "source": [
        "# Loading data"
      ],
      "metadata": {
        "id": "TEh91uZlkuzr"
      }
    },
    {
      "cell_type": "code",
      "source": [
        "!pip install --upgrade --no-cache-dir gdown"
      ],
      "metadata": {
        "id": "mofqT5vGlEM2",
        "colab": {
          "base_uri": "https://localhost:8080/"
        },
        "outputId": "5435bd36-ecf4-4d23-caf4-e037d7f98a0d"
      },
      "execution_count": null,
      "outputs": [
        {
          "output_type": "stream",
          "name": "stdout",
          "text": [
            "Looking in indexes: https://pypi.org/simple, https://us-python.pkg.dev/colab-wheels/public/simple/\n",
            "Requirement already satisfied: gdown in /usr/local/lib/python3.10/dist-packages (4.6.6)\n",
            "Collecting gdown\n",
            "  Downloading gdown-4.7.1-py3-none-any.whl (15 kB)\n",
            "Requirement already satisfied: requests[socks] in /usr/local/lib/python3.10/dist-packages (from gdown) (2.27.1)\n",
            "Requirement already satisfied: filelock in /usr/local/lib/python3.10/dist-packages (from gdown) (3.12.0)\n",
            "Requirement already satisfied: beautifulsoup4 in /usr/local/lib/python3.10/dist-packages (from gdown) (4.11.2)\n",
            "Requirement already satisfied: six in /usr/local/lib/python3.10/dist-packages (from gdown) (1.16.0)\n",
            "Requirement already satisfied: tqdm in /usr/local/lib/python3.10/dist-packages (from gdown) (4.65.0)\n",
            "Requirement already satisfied: soupsieve>1.2 in /usr/local/lib/python3.10/dist-packages (from beautifulsoup4->gdown) (2.4.1)\n",
            "Requirement already satisfied: charset-normalizer~=2.0.0 in /usr/local/lib/python3.10/dist-packages (from requests[socks]->gdown) (2.0.12)\n",
            "Requirement already satisfied: idna<4,>=2.5 in /usr/local/lib/python3.10/dist-packages (from requests[socks]->gdown) (3.4)\n",
            "Requirement already satisfied: certifi>=2017.4.17 in /usr/local/lib/python3.10/dist-packages (from requests[socks]->gdown) (2022.12.7)\n",
            "Requirement already satisfied: urllib3<1.27,>=1.21.1 in /usr/local/lib/python3.10/dist-packages (from requests[socks]->gdown) (1.26.15)\n",
            "Requirement already satisfied: PySocks!=1.5.7,>=1.5.6 in /usr/local/lib/python3.10/dist-packages (from requests[socks]->gdown) (1.7.1)\n",
            "Installing collected packages: gdown\n",
            "  Attempting uninstall: gdown\n",
            "    Found existing installation: gdown 4.6.6\n",
            "    Uninstalling gdown-4.6.6:\n",
            "      Successfully uninstalled gdown-4.6.6\n",
            "Successfully installed gdown-4.7.1\n"
          ]
        }
      ]
    },
    {
      "cell_type": "code",
      "source": [
        "# Download data rar\n",
        "!gdown 1_iQKcOhqtCPrta3Cz0pjbO02C2VaQ4wV -O data.rar"
      ],
      "metadata": {
        "id": "rUie1fzMeD92",
        "colab": {
          "base_uri": "https://localhost:8080/"
        },
        "outputId": "2671042b-e281-4249-e91a-d9cf89c05ba2"
      },
      "execution_count": null,
      "outputs": [
        {
          "output_type": "stream",
          "name": "stdout",
          "text": [
            "Downloading...\n",
            "From (uriginal): https://drive.google.com/uc?id=1_iQKcOhqtCPrta3Cz0pjbO02C2VaQ4wV\n",
            "From (redirected): https://drive.google.com/uc?id=1_iQKcOhqtCPrta3Cz0pjbO02C2VaQ4wV&confirm=t&uuid=9211339a-493d-40a3-8417-eada79726216\n",
            "To: /content/data.rar\n",
            "100% 314M/314M [00:03<00:00, 87.9MB/s]\n"
          ]
        }
      ]
    },
    {
      "cell_type": "code",
      "source": [
        "!mkdir subjects\n",
        "!unrar x \"/content/data.rar\" \"/content/subjects/\"\n",
        "!rm -r \"data.rar\""
      ],
      "metadata": {
        "id": "HO0lXgJ5eQur",
        "colab": {
          "base_uri": "https://localhost:8080/"
        },
        "outputId": "795da215-9d2e-42b7-a772-05b94ec054fd"
      },
      "execution_count": null,
      "outputs": [
        {
          "output_type": "stream",
          "name": "stdout",
          "text": [
            "\n",
            "UNRAR 5.61 beta 1 freeware      Copyright (c) 1993-2018 Alexander Roshal\n",
            "\n",
            "\n",
            "Extracting from /content/data.rar\n",
            "\n",
            "Extracting  /content/subjects/ana_press_6_esfand.csv                     \b\b\b\b  0%\b\b\b\b\b  OK \n",
            "Extracting  /content/subjects/ana_press_all.csv                          \b\b\b\b  1%\b\b\b\b\b  OK \n",
            "Extracting  /content/subjects/asriran_6_esfand.csv                       \b\b\b\b  1%\b\b\b\b\b  OK \n",
            "Extracting  /content/subjects/asriran_all.csv                            \b\b\b\b  3%\b\b\b\b  4%\b\b\b\b  5%\b\b\b\b  6%\b\b\b\b\b  OK \n",
            "Extracting  /content/subjects/entekhab_6_esfand.csv                      \b\b\b\b  6%\b\b\b\b\b  OK \n",
            "Extracting  /content/subjects/entekhab_all.csv                           \b\b\b\b  7%\b\b\b\b  9%\b\b\b\b 10%\b\b\b\b 11%\b\b\b\b 13%\b\b\b\b 14%\b\b\b\b 15%\b\b\b\b\b  OK \n",
            "Extracting  /content/subjects/farsnews_6_esfand.csv                      \b\b\b\b 15%\b\b\b\b\b  OK \n",
            "Extracting  /content/subjects/farsnews_all.csv                           \b\b\b\b 16%\b\b\b\b 18%\b\b\b\b 19%\b\b\b\b 21%\b\b\b\b 22%\b\b\b\b 23%\b\b\b\b 25%\b\b\b\b 26%\b\b\b\b 27%\b\b\b\b 29%\b\b\b\b\b  OK \n",
            "Extracting  /content/subjects/iscanews_6_esfand.csv                      \b\b\b\b 29%\b\b\b\b\b  OK \n",
            "Extracting  /content/subjects/iscanews_all.csv                           \b\b\b\b 30%\b\b\b\b\b  OK \n",
            "Extracting  /content/subjects/isna_6_esfand.csv                          \b\b\b\b 30%\b\b\b\b\b  OK \n",
            "Extracting  /content/subjects/isna_all.csv                               \b\b\b\b 31%\b\b\b\b 33%\b\b\b\b 34%\b\b\b\b 35%\b\b\b\b 37%\b\b\b\b 38%\b\b\b\b 40%\b\b\b\b 41%\b\b\b\b 42%\b\b\b\b 43%\b\b\b\b\b  OK \n",
            "Extracting  /content/subjects/jahannews_6_esfand.csv                     \b\b\b\b 43%\b\b\b\b\b  OK \n",
            "Extracting  /content/subjects/jahannews_all.csv                          \b\b\b\b 43%\b\b\b\b\b  OK \n",
            "Extracting  /content/subjects/karamouzi_projects.docx                    \b\b\b\b 43%\b\b\b\b\b  OK \n",
            "Extracting  /content/subjects/karamouzi_projects.pdf                     \b\b\b\b 43%\b\b\b\b\b  OK \n",
            "Extracting  /content/subjects/khabaronline_6_esfand.csv                  \b\b\b\b 44%\b\b\b\b\b  OK \n",
            "Extracting  /content/subjects/khabaronline_all.csv                       \b\b\b\b 45%\b\b\b\b 46%\b\b\b\b 48%\b\b\b\b 49%\b\b\b\b 50%\b\b\b\b 52%\b\b\b\b 53%\b\b\b\b 54%\b\b\b\b 56%\b\b\b\b 57%\b\b\b\b 58%\b\b\b\b\b  OK \n",
            "Extracting  /content/subjects/mashreghnews_6_esfand.csv                  \b\b\b\b 58%\b\b\b\b\b  OK \n",
            "Extracting  /content/subjects/mashreghnews_all.csv                       \b\b\b\b 59%\b\b\b\b 61%\b\b\b\b 62%\b\b\b\b 63%\b\b\b\b 65%\b\b\b\b 66%\b\b\b\b 67%\b\b\b\b 69%\b\b\b\b 70%\b\b\b\b\b  OK \n",
            "Extracting  /content/subjects/mehrnews_6_esfand.csv                      \b\b\b\b 70%\b\b\b\b\b  OK \n",
            "Extracting  /content/subjects/mehrnews_all.csv                           \b\b\b\b 72%\b\b\b\b 73%\b\b\b\b 74%\b\b\b\b 76%\b\b\b\b 77%\b\b\b\b\b  OK \n",
            "Extracting  /content/subjects/shana_all.csv                              \b\b\b\b 77%\b\b\b\b\b  OK \n",
            "Extracting  /content/subjects/shana_news_6_esfand.csv                    \b\b\b\b 77%\b\b\b\b\b  OK \n",
            "Extracting  /content/subjects/tasnimnews_6_esfand.csv                    \b\b\b\b 78%\b\b\b\b\b  OK \n",
            "Extracting  /content/subjects/tasnimnews_all.csv                         \b\b\b\b 79%\b\b\b\b 80%\b\b\b\b 82%\b\b\b\b 83%\b\b\b\b 84%\b\b\b\b 86%\b\b\b\b 87%\b\b\b\b 88%\b\b\b\b 89%\b\b\b\b\b  OK \n",
            "Extracting  /content/subjects/varzesh3_6_esfand.csv                      \b\b\b\b 89%\b\b\b\b\b  OK \n",
            "Extracting  /content/subjects/varzesh3_all.csv                           \b\b\b\b 91%\b\b\b\b 92%\b\b\b\b 93%\b\b\b\b\b  OK \n",
            "Extracting  /content/subjects/yjcnews_6_esfand.csv                       \b\b\b\b 93%\b\b\b\b\b  OK \n",
            "Extracting  /content/subjects/yjcnews_all.csv                            \b\b\b\b 94%\b\b\b\b 96%\b\b\b\b 97%\b\b\b\b 98%\b\b\b\b 99%\b\b\b\b\b  OK \n",
            "All OK\n"
          ]
        }
      ]
    },
    {
      "cell_type": "markdown",
      "source": [
        "# Feature Extraction\n"
      ],
      "metadata": {
        "id": "W5ECodM4lthT"
      }
    },
    {
      "cell_type": "code",
      "source": [
        "def intersection_ratio(title, content, content_len):\n",
        "    \"\"\" max[ (intersect(title , content) / content_len) , 0] \"\"\"\n",
        "\n",
        "    intersection = np.intersect1d(title , content)\n",
        "    try:\n",
        "        return max((len(intersection)/content_len), 0) # ignore negative ratio\n",
        "    except:\n",
        "        return 0"
      ],
      "metadata": {
        "id": "dA-L_ZDI8fxW"
      },
      "execution_count": null,
      "outputs": []
    },
    {
      "cell_type": "code",
      "source": [
        "def choose_description(df_output):   \n",
        "    \"\"\" choose the deepest description and act as regular content to others. \"\"\"\n",
        "    \n",
        "    idx_list = []\n",
        "    depth_list = []\n",
        "    x = df_output.loc[df_output['label']==1].index\n",
        "\n",
        "    for idx in x:\n",
        "        idx_list.append(idx)\n",
        "        depth_list.append(df_output.loc[idx, 'depth'])\n",
        "\n",
        "    if depth_list:\n",
        "        idx_max = np.array(depth_list).argmax()\n",
        "        real_desc_idx = idx_list[idx_max]\n",
        "\n",
        "        for element in idx_list:\n",
        "            if element != real_desc_idx:\n",
        "                df_output.loc[element, 'label'] = 0\n",
        "\n",
        "    return df_output"
      ],
      "metadata": {
        "id": "siyNIT5vIxD3"
      },
      "execution_count": null,
      "outputs": []
    },
    {
      "cell_type": "code",
      "source": [
        "def feature_extractor(html_doc:str, title:str, description:str, ignore_ratio=3, training_mode=True):\n",
        "    \"\"\" the function to extract features from one html document.\n",
        "        it gets title and description in string format as inputs.\n",
        "        ignore_ratio default value is 3 which means text in tages with less than 3 words in html doc will be ignored.\n",
        "        labels are assigned if training mode is true otherwise labels won't be created.\n",
        "        in test mode, descriotion should be assigned as None\"\"\"\n",
        "\n",
        "    splited_title = np.array(title.split())\n",
        "    content_list = []\n",
        "    intersection_ratio_list = []\n",
        "    content_depth_list = []\n",
        "    content_len_list = []\n",
        "    dom_tree_types = []\n",
        "    labels = []\n",
        "    \n",
        "\n",
        "    def traverse(t, current_path=None):\n",
        "\n",
        "        if current_path is None:\n",
        "            current_path = [t.name] # example -> current_path = ['body']\n",
        "\n",
        "        for tag in t.find_all(recursive=False):\n",
        "\n",
        "            if not tag.find():        \n",
        "                    path = current_path + [tag.name, tag.find(string=True)] # example -> path: ['body', 'div', 'h2', 'hello world!']\n",
        "                    content = tag.find(string=True) # each string in tag as a content\n",
        "\n",
        "                    if str(content) != 'None' and str(tag.name) != 'script' and str(tag.name) != 'style':\n",
        "                          content = tag.find(string=True).strip()                     \n",
        "                          splited_content = str(content).split()  # example -> splitted_content: hello, world!\n",
        "                          content_len = len(splited_content) # example -> number of words in content: 2\n",
        "\n",
        "                          if content_len > ignore_ratio:\n",
        "\n",
        "                              if training_mode == True: # assign labels\n",
        "                                  \n",
        "                                  if str(content) == description:\n",
        "                                    labels.append(1)\n",
        "\n",
        "                                  elif str(content) == title:\n",
        "                                    labels.append(2)\n",
        "\n",
        "                                  else:\n",
        "                                    labels.append(0)\n",
        "\n",
        "                              content_list.append(str(content)) # example -> content: hello world!\n",
        "                              content_depth_list.append(float(len(path))) # example -> depth: 4\n",
        "                              content_len_list.append(content_len) # example -> number of words: 2\n",
        "                              dom_tree_types.append(tag.name) # example -> tag: h2\n",
        "                              intersection_ratio_list.append(intersection_ratio(splited_title, splited_content, content_len))\n",
        "                                            \n",
        "            else:\n",
        "                traverse(tag, current_path + [tag.name])\n",
        "            \n",
        "    soup = BeautifulSoup(html_doc, \"html.parser\")\n",
        "    traverse(soup.body)\n",
        "    # traverse(soup.find(\"article\", {'class': 'news-content'})) # varzesh3\n",
        "\n",
        "    # z score normalization on content_len in each indiviual html doc\n",
        "    content_len_list = zscore(content_len_list)\n",
        "\n",
        "    # lists to dictionary\n",
        "    if training_mode == True:\n",
        "      data_dict = {'content': content_list,\n",
        "                  'depth': content_depth_list,\n",
        "                  'intersection_ratio' : intersection_ratio_list ,\n",
        "                  'content_len': content_len_list, \n",
        "                  'dom_tree_type':dom_tree_types,\n",
        "                  'label': labels}  \n",
        "    if training_mode == False:\n",
        "      data_dict = {'content': content_list,\n",
        "                  'depth': content_depth_list,\n",
        "                  'intersection_ratio' : intersection_ratio_list ,\n",
        "                  'content_len': content_len_list, \n",
        "                  'dom_tree_type':dom_tree_types}  \n",
        "        \n",
        "    # dict to df\n",
        "    df_output = pd.DataFrame(data_dict)\n",
        "\n",
        "    # if more than 1 description we have, choose the deepest one\n",
        "    if training_mode == True:\n",
        "      if len(df_output[df_output['label'] >= 2]):\n",
        "          df_output = choose_description(df_output)\n",
        "\n",
        "    return df_output"
      ],
      "metadata": {
        "id": "HDsGJxeaGWis"
      },
      "execution_count": null,
      "outputs": []
    },
    {
      "cell_type": "code",
      "source": [
        "# html to df on one sample html testing\n",
        "html_doc = \"\"\"\n",
        "<head>\n",
        "   <meta property=\"og:title\" content=\"this is a title.\">\n",
        "   <meta property=\"og:description\" content=\"this is a description.\">\n",
        "</head>\n",
        "<body>\n",
        "   <h2><a>this is a title.</a></h2>\n",
        "   <h1>this is a title.</h1>\n",
        "   <p>this is a description.</p>\n",
        "   <p>this is a text.</p>\n",
        "   <p>apple</p>\n",
        "   <span>\n",
        "      <p>Google Chrome is a web browser</p>\n",
        "      <p>Chrome is a web browser developed by google </p>\n",
        "      <div>\n",
        "         <div>\n",
        "            <p>This is a leaf node</p>\n",
        "            <p>This is a leaf node</p>\n",
        "            <p>This is a leaf node</p>\n",
        "            <p><div><div>this is a description.</div></div></p>\n",
        "            <p><li>this is a description.</li></p>\n",
        "         </div>\n",
        "      </div>\n",
        "   </span>\n",
        "</body>\n",
        "\"\"\" \n",
        "\n",
        "soup = BeautifulSoup(html_doc, \"html.parser\")\n",
        "\n",
        "title = soup.find('meta', {'property': 'og:title'})[\"content\"]\n",
        "print('title:', title)\n",
        "# title = soup.find('h2').text.strip()\n",
        "\n",
        "description = soup.find('meta', {'property': 'og:description'})[\"content\"]\n",
        "print('description:', description)\n",
        "\n",
        "df_sample = feature_extractor(html_doc, title, description, ignore_ratio=3, training_mode=True)\n",
        "# df_sample = feature_extractor(html_doc, title, description=None, ignore_ratio=3, training_mode=False)\n",
        "df_sample"
      ],
      "metadata": {
        "id": "LT5CGzYRkEax",
        "colab": {
          "base_uri": "https://localhost:8080/",
          "height": 429
        },
        "outputId": "0c4ff2f4-4bea-4246-baca-a79b8bb1fb63"
      },
      "execution_count": null,
      "outputs": [
        {
          "output_type": "stream",
          "name": "stdout",
          "text": [
            "title: this is a title.\n",
            "description: this is a description.\n"
          ]
        },
        {
          "output_type": "execute_result",
          "data": {
            "text/plain": [
              "                                        content  depth  intersection_ratio  \\\n",
              "0                              this is a title.    4.0            1.000000   \n",
              "1                              this is a title.    3.0            1.000000   \n",
              "2                        this is a description.    3.0            0.750000   \n",
              "3                               this is a text.    3.0            0.750000   \n",
              "4                Google Chrome is a web browser    4.0            0.333333   \n",
              "5   Chrome is a web browser developed by google    4.0            0.250000   \n",
              "6                           This is a leaf node    6.0            0.400000   \n",
              "7                           This is a leaf node    6.0            0.400000   \n",
              "8                           This is a leaf node    6.0            0.400000   \n",
              "9                        this is a description.    8.0            0.750000   \n",
              "10                       this is a description.    7.0            0.750000   \n",
              "\n",
              "    content_len dom_tree_type  label  \n",
              "0     -0.686244             a      2  \n",
              "1     -0.686244            h1      2  \n",
              "2     -0.686244             p      0  \n",
              "3     -0.686244             p      0  \n",
              "4      0.991241             p      0  \n",
              "5      2.668725             p      0  \n",
              "6      0.152499             p      0  \n",
              "7      0.152499             p      0  \n",
              "8      0.152499             p      0  \n",
              "9     -0.686244           div      1  \n",
              "10    -0.686244            li      0  "
            ],
            "text/html": [
              "\n",
              "  <div id=\"df-2c08cbbb-11ff-4a93-99c6-15ce1e430d21\">\n",
              "    <div class=\"colab-df-container\">\n",
              "      <div>\n",
              "<style scoped>\n",
              "    .dataframe tbody tr th:only-of-type {\n",
              "        vertical-align: middle;\n",
              "    }\n",
              "\n",
              "    .dataframe tbody tr th {\n",
              "        vertical-align: top;\n",
              "    }\n",
              "\n",
              "    .dataframe thead th {\n",
              "        text-align: right;\n",
              "    }\n",
              "</style>\n",
              "<table border=\"1\" class=\"dataframe\">\n",
              "  <thead>\n",
              "    <tr style=\"text-align: right;\">\n",
              "      <th></th>\n",
              "      <th>content</th>\n",
              "      <th>depth</th>\n",
              "      <th>intersection_ratio</th>\n",
              "      <th>content_len</th>\n",
              "      <th>dom_tree_type</th>\n",
              "      <th>label</th>\n",
              "    </tr>\n",
              "  </thead>\n",
              "  <tbody>\n",
              "    <tr>\n",
              "      <th>0</th>\n",
              "      <td>this is a title.</td>\n",
              "      <td>4.0</td>\n",
              "      <td>1.000000</td>\n",
              "      <td>-0.686244</td>\n",
              "      <td>a</td>\n",
              "      <td>2</td>\n",
              "    </tr>\n",
              "    <tr>\n",
              "      <th>1</th>\n",
              "      <td>this is a title.</td>\n",
              "      <td>3.0</td>\n",
              "      <td>1.000000</td>\n",
              "      <td>-0.686244</td>\n",
              "      <td>h1</td>\n",
              "      <td>2</td>\n",
              "    </tr>\n",
              "    <tr>\n",
              "      <th>2</th>\n",
              "      <td>this is a description.</td>\n",
              "      <td>3.0</td>\n",
              "      <td>0.750000</td>\n",
              "      <td>-0.686244</td>\n",
              "      <td>p</td>\n",
              "      <td>0</td>\n",
              "    </tr>\n",
              "    <tr>\n",
              "      <th>3</th>\n",
              "      <td>this is a text.</td>\n",
              "      <td>3.0</td>\n",
              "      <td>0.750000</td>\n",
              "      <td>-0.686244</td>\n",
              "      <td>p</td>\n",
              "      <td>0</td>\n",
              "    </tr>\n",
              "    <tr>\n",
              "      <th>4</th>\n",
              "      <td>Google Chrome is a web browser</td>\n",
              "      <td>4.0</td>\n",
              "      <td>0.333333</td>\n",
              "      <td>0.991241</td>\n",
              "      <td>p</td>\n",
              "      <td>0</td>\n",
              "    </tr>\n",
              "    <tr>\n",
              "      <th>5</th>\n",
              "      <td>Chrome is a web browser developed by google</td>\n",
              "      <td>4.0</td>\n",
              "      <td>0.250000</td>\n",
              "      <td>2.668725</td>\n",
              "      <td>p</td>\n",
              "      <td>0</td>\n",
              "    </tr>\n",
              "    <tr>\n",
              "      <th>6</th>\n",
              "      <td>This is a leaf node</td>\n",
              "      <td>6.0</td>\n",
              "      <td>0.400000</td>\n",
              "      <td>0.152499</td>\n",
              "      <td>p</td>\n",
              "      <td>0</td>\n",
              "    </tr>\n",
              "    <tr>\n",
              "      <th>7</th>\n",
              "      <td>This is a leaf node</td>\n",
              "      <td>6.0</td>\n",
              "      <td>0.400000</td>\n",
              "      <td>0.152499</td>\n",
              "      <td>p</td>\n",
              "      <td>0</td>\n",
              "    </tr>\n",
              "    <tr>\n",
              "      <th>8</th>\n",
              "      <td>This is a leaf node</td>\n",
              "      <td>6.0</td>\n",
              "      <td>0.400000</td>\n",
              "      <td>0.152499</td>\n",
              "      <td>p</td>\n",
              "      <td>0</td>\n",
              "    </tr>\n",
              "    <tr>\n",
              "      <th>9</th>\n",
              "      <td>this is a description.</td>\n",
              "      <td>8.0</td>\n",
              "      <td>0.750000</td>\n",
              "      <td>-0.686244</td>\n",
              "      <td>div</td>\n",
              "      <td>1</td>\n",
              "    </tr>\n",
              "    <tr>\n",
              "      <th>10</th>\n",
              "      <td>this is a description.</td>\n",
              "      <td>7.0</td>\n",
              "      <td>0.750000</td>\n",
              "      <td>-0.686244</td>\n",
              "      <td>li</td>\n",
              "      <td>0</td>\n",
              "    </tr>\n",
              "  </tbody>\n",
              "</table>\n",
              "</div>\n",
              "      <button class=\"colab-df-convert\" onclick=\"convertToInteractive('df-2c08cbbb-11ff-4a93-99c6-15ce1e430d21')\"\n",
              "              title=\"Convert this dataframe to an interactive table.\"\n",
              "              style=\"display:none;\">\n",
              "        \n",
              "  <svg xmlns=\"http://www.w3.org/2000/svg\" height=\"24px\"viewBox=\"0 0 24 24\"\n",
              "       width=\"24px\">\n",
              "    <path d=\"M0 0h24v24H0V0z\" fill=\"none\"/>\n",
              "    <path d=\"M18.56 5.44l.94 2.06.94-2.06 2.06-.94-2.06-.94-.94-2.06-.94 2.06-2.06.94zm-11 1L8.5 8.5l.94-2.06 2.06-.94-2.06-.94L8.5 2.5l-.94 2.06-2.06.94zm10 10l.94 2.06.94-2.06 2.06-.94-2.06-.94-.94-2.06-.94 2.06-2.06.94z\"/><path d=\"M17.41 7.96l-1.37-1.37c-.4-.4-.92-.59-1.43-.59-.52 0-1.04.2-1.43.59L10.3 9.45l-7.72 7.72c-.78.78-.78 2.05 0 2.83L4 21.41c.39.39.9.59 1.41.59.51 0 1.02-.2 1.41-.59l7.78-7.78 2.81-2.81c.8-.78.8-2.07 0-2.86zM5.41 20L4 18.59l7.72-7.72 1.47 1.35L5.41 20z\"/>\n",
              "  </svg>\n",
              "      </button>\n",
              "      \n",
              "  <style>\n",
              "    .colab-df-container {\n",
              "      display:flex;\n",
              "      flex-wrap:wrap;\n",
              "      gap: 12px;\n",
              "    }\n",
              "\n",
              "    .colab-df-convert {\n",
              "      background-color: #E8F0FE;\n",
              "      border: none;\n",
              "      border-radius: 50%;\n",
              "      cursor: pointer;\n",
              "      display: none;\n",
              "      fill: #1967D2;\n",
              "      height: 32px;\n",
              "      padding: 0 0 0 0;\n",
              "      width: 32px;\n",
              "    }\n",
              "\n",
              "    .colab-df-convert:hover {\n",
              "      background-color: #E2EBFA;\n",
              "      box-shadow: 0px 1px 2px rgba(60, 64, 67, 0.3), 0px 1px 3px 1px rgba(60, 64, 67, 0.15);\n",
              "      fill: #174EA6;\n",
              "    }\n",
              "\n",
              "    [theme=dark] .colab-df-convert {\n",
              "      background-color: #3B4455;\n",
              "      fill: #D2E3FC;\n",
              "    }\n",
              "\n",
              "    [theme=dark] .colab-df-convert:hover {\n",
              "      background-color: #434B5C;\n",
              "      box-shadow: 0px 1px 3px 1px rgba(0, 0, 0, 0.15);\n",
              "      filter: drop-shadow(0px 1px 2px rgba(0, 0, 0, 0.3));\n",
              "      fill: #FFFFFF;\n",
              "    }\n",
              "  </style>\n",
              "\n",
              "      <script>\n",
              "        const buttonEl =\n",
              "          document.querySelector('#df-2c08cbbb-11ff-4a93-99c6-15ce1e430d21 button.colab-df-convert');\n",
              "        buttonEl.style.display =\n",
              "          google.colab.kernel.accessAllowed ? 'block' : 'none';\n",
              "\n",
              "        async function convertToInteractive(key) {\n",
              "          const element = document.querySelector('#df-2c08cbbb-11ff-4a93-99c6-15ce1e430d21');\n",
              "          const dataTable =\n",
              "            await google.colab.kernel.invokeFunction('convertToInteractive',\n",
              "                                                     [key], {});\n",
              "          if (!dataTable) return;\n",
              "\n",
              "          const docLinkHtml = 'Like what you see? Visit the ' +\n",
              "            '<a target=\"_blank\" href=https://colab.research.google.com/notebooks/data_table.ipynb>data table notebook</a>'\n",
              "            + ' to learn more about interactive tables.';\n",
              "          element.innerHTML = '';\n",
              "          dataTable['output_type'] = 'display_data';\n",
              "          await google.colab.output.renderOutput(dataTable, element);\n",
              "          const docLink = document.createElement('div');\n",
              "          docLink.innerHTML = docLinkHtml;\n",
              "          element.appendChild(docLink);\n",
              "        }\n",
              "      </script>\n",
              "    </div>\n",
              "  </div>\n",
              "  "
            ]
          },
          "metadata": {},
          "execution_count": 8
        }
      ]
    },
    {
      "cell_type": "markdown",
      "source": [
        "# News Web Pages Processor\n"
      ],
      "metadata": {
        "id": "y6dchxTbaRr1"
      }
    },
    {
      "cell_type": "code",
      "source": [
        "def news_pages_processor(news_df):\n",
        "    \"\"\" The function gets one csv of one news agancy.\n",
        "        Each csv contains many html docs.\n",
        "        Each html doc is in base64 format.\n",
        "        Each html doc reprasents one news web page.\n",
        "        This function uses feature extractor function,\n",
        "        and return one df includes features of one news agency\"\"\"\n",
        "\n",
        "    output = pd.DataFrame(columns=['content','depth', 'intersection_ratio','content_len', 'dom_tree_type', 'label']) \n",
        "\n",
        "    for i in tqdm(range(len(news_df['html']))):\n",
        "        html_string = base64.b64decode(news_df['html'][i].encode(\"utf-8\", 'ignore')) # type: byte\n",
        "        html_doc = html_string.decode(\"utf8\", 'ignore') # type: string. To avoid unicode error use ignore\n",
        "\n",
        "        # finding title and description in the web page\n",
        "        soup = BeautifulSoup(html_doc, \"html.parser\")\n",
        "        try:\n",
        "            description = soup.find('meta', {'property': 'og:description'})[\"content\"]\n",
        "        except:\n",
        "            description = False\n",
        "        try:\n",
        "            title = soup.find('meta', {'property': 'og:title'})[\"content\"]\n",
        "        except:\n",
        "            title = False\n",
        "\n",
        "        if title and description : # since some pages are 403 Forbidden!\n",
        "            output = output.append(feature_extractor(html_doc, title, description, ignore_ratio=4, training_mode=True))\n",
        "\n",
        "    \"\"\" z score normalization on depth column in each news agency\"\"\"\n",
        "    output['depth'] = zscore(output['depth'])\n",
        "\n",
        "    return output"
      ],
      "metadata": {
        "id": "BnSpVVwxfI3x"
      },
      "execution_count": null,
      "outputs": []
    },
    {
      "cell_type": "code",
      "source": [
        "def normalize_dom_intersection(output):\n",
        "    \"\"\" assign int value to dom tree types then apply z score normalization\"\"\"\n",
        "    le = LabelEncoder() # Creating a instance of label Encoder.\n",
        "    types = le.fit_transform(output['dom_tree_type'])\n",
        "    output.drop(\"dom_tree_type\", axis=1, inplace=True)\n",
        "    output[\"dom_tree_type\"] = types\n",
        "\n",
        "    \"\"\" z score normalization on dom tree and intersection_ratio \"\"\"\n",
        "    output['intersection_ratio'] = zscore(output['intersection_ratio'])\n",
        "    output['dom_tree_type'] = zscore(output['dom_tree_type'])\n",
        "    return output"
      ],
      "metadata": {
        "id": "6F0y6nxZMt4K"
      },
      "execution_count": null,
      "outputs": []
    },
    {
      "cell_type": "markdown",
      "source": [
        "# Applying on all data"
      ],
      "metadata": {
        "id": "P_2ELj2_aUmP"
      }
    },
    {
      "cell_type": "code",
      "source": [
        "ana_press_all =  news_pages_processor(pd.read_csv('/content/subjects/ana_press_all.csv', encoding='utf8', on_bad_lines='skip'))\n",
        "asriran_all =  news_pages_processor(pd.read_csv('/content/subjects/asriran_all.csv', encoding='utf8', on_bad_lines='skip'))\n",
        "# entekhab_all = news_pages_processor(pd.read_csv('/content/subjects/entekhab_all.csv', encoding='utf8', on_bad_lines='skip'))\n",
        "# farsnews_all = news_pages_processor(pd.read_csv('/content/subjects/farsnews_all.csv', encoding='utf8', on_bad_lines='skip'))\n",
        "# iscanews_all = news_pages_processor(pd.read_csv('/content/subjects/iscanews_all.csv', encoding='utf8', on_bad_lines='skip'))\n",
        "# isna_all = news_pages_processor(pd.read_csv('/content/subjects/isna_all.csv', encoding='utf8', on_bad_lines='skip'))\n",
        "# jahannews_all = news_pages_processor(pd.read_csv('/content/subjects/jahannews_all.csv', encoding='utf8', on_bad_lines='skip'))\n",
        "# khabaronline_all = news_pages_processor(pd.read_csv('/content/subjects/khabaronline_all.csv', encoding='utf8', on_bad_lines='skip'))\n",
        "# mashreghnews_all = news_pages_processor(pd.read_csv('/content/subjects/mashreghnews_all.csv', encoding='utf8', on_bad_lines='skip'))\n",
        "# mehrnews_all = news_pages_processor(pd.read_csv('/content/subjects/mehrnews_all.csv', encoding='utf8', on_bad_lines='skip'))\n",
        "# shana_all = news_pages_processor(pd.read_csv('/content/subjects/shana_all.csv', encoding='utf8', on_bad_lines='skip'))\n",
        "# tasnimnews_all = news_pages_processor(pd.read_csv('/content/subjects/tasnimnews_all.csv', encoding='utf8', on_bad_lines='skip'))\n",
        "# varzesh3_all = news_pages_processor(pd.read_csv('/content/subjects/varzesh3_all.csv', encoding='utf8', on_bad_lines='skip'))\n",
        "# yjcnews_all = news_pages_processor(pd.read_csv('/content/subjects/yjcnews_all.csv', encoding='utf8', on_bad_lines='skip'))"
      ],
      "metadata": {
        "colab": {
          "base_uri": "https://localhost:8080/",
          "height": 81,
          "referenced_widgets": [
            "aee9188279cf4f87aa65d1792d614575",
            "2ad9380cff9343dc860da17b18d250fe",
            "adffb94fc3d94af4902fffea0c6ace49",
            "f652d79c9b354d6187455d6010ff75e5",
            "25702d60c53d43bf9ac553fa9da57fe4",
            "c49dc3ad226f4b3d822397c888f1f836",
            "c5e4a7e9b9154af0bed0c7289b4837eb",
            "685bf81aee514fc6b46c0fa3822d7f17",
            "a9261ab20f6141aab470b225e759c231",
            "1c21de98874c42dba19610361aa252c3",
            "92b45efcf5844b36a55c0eb7b5755009",
            "12b84ea3074843af858752b957f0b913",
            "e13254ec209f4187bdc1cc4d9f31bc1f",
            "5a6c10bcfd5844d2a1ea05a26cbb7228",
            "2e1ac31db7624466b0b4128eca550af0",
            "1ef0422bfb0f4a37965b91530e1c3be3",
            "68fa60b0a4bb415084cd9da503dd0249",
            "f2bcf26eaece4c83a75b0de7b25de3d8",
            "11ce5f956f824d748539bc73f110ddab",
            "c787a498add440e09788660ad036e335",
            "c0c47a22036e42cd82d096a7ed7425dc",
            "6d7bce100c5f42e6917d6ab87a2abb90"
          ]
        },
        "id": "flA66qNan1h-",
        "outputId": "fafecd43-1a3e-4c22-871f-4ccfb210cace"
      },
      "execution_count": null,
      "outputs": [
        {
          "output_type": "display_data",
          "data": {
            "text/plain": [
              "  0%|          | 0/1959 [00:00<?, ?it/s]"
            ],
            "application/vnd.jupyter.widget-view+json": {
              "version_major": 2,
              "version_minor": 0,
              "model_id": "aee9188279cf4f87aa65d1792d614575"
            }
          },
          "metadata": {}
        },
        {
          "output_type": "display_data",
          "data": {
            "text/plain": [
              "  0%|          | 0/4169 [00:00<?, ?it/s]"
            ],
            "application/vnd.jupyter.widget-view+json": {
              "version_major": 2,
              "version_minor": 0,
              "model_id": "12b84ea3074843af858752b957f0b913"
            }
          },
          "metadata": {}
        }
      ]
    },
    {
      "cell_type": "code",
      "source": [
        "# concatenating dfs\n",
        "df_list = [ana_press_all,\n",
        "           asriran_all, ]\n",
        "          #  entekhab_all, \n",
        "          #  farsnews_all, \n",
        "          #  iscanews_all, \n",
        "          #  isna_all, \n",
        "          #  jahannews_all, \n",
        "          #  khabaronline_all, \n",
        "          #  mashreghnews_all, \n",
        "          #  mehrnews_all, \n",
        "          #  shana_all, \n",
        "          #  tasnimnews_all, \n",
        "          #  varzesh3_all, \n",
        "          #  yjcnews_all]\n",
        "\n",
        "output = pd.concat(df_list, axis=0, ignore_index=True)\n",
        "output = normalize_dom_intersection(output)"
      ],
      "metadata": {
        "id": "oHO-avamK7UU"
      },
      "execution_count": null,
      "outputs": []
    },
    {
      "cell_type": "code",
      "source": [
        "# main df of all dataset\n",
        "output"
      ],
      "metadata": {
        "colab": {
          "base_uri": "https://localhost:8080/",
          "height": 423
        },
        "id": "UjcaN9pVcQsN",
        "outputId": "1227043d-0512-4cb8-e25a-5be492863bd0"
      },
      "execution_count": null,
      "outputs": [
        {
          "output_type": "execute_result",
          "data": {
            "text/plain": [
              "                                                  content     depth  \\\n",
              "0                    دیده بان پیشرفت علم، فناوری و نوآوری -1.782091   \n",
              "1                    دیده بان پیشرفت علم، فناوری و نوآوری -1.782091   \n",
              "2                                  زیست بوم دانش و فناوری  1.406763   \n",
              "3                               انقلاب اسلامی و دفاع مقدس  1.406763   \n",
              "4                                  زیست بوم دانش و فناوری -0.719140   \n",
              "...                                                   ...       ...   \n",
              "203978   قانون شماره 5: بیشتر از دهان، گوشتان را باز كنید -0.216943   \n",
              "203979         قانون شماره 6: برای ماندن برنامه‌ریزی كنید -0.216943   \n",
              "203980                      عضویت در اینستاگرام عصر ایران  0.385849   \n",
              "203981                            اخبار و تحلیل های ترکیه  1.591434   \n",
              "203982  كليه حقوق محفوظ است، استفاده از مطالب با ذكر م... -2.628113   \n",
              "\n",
              "        intersection_ratio  content_len label  dom_tree_type  \n",
              "0                -0.450605    -0.207098     0       1.854340  \n",
              "1                -0.450605    -0.207098     0       1.854340  \n",
              "2                -0.450605    -0.249918     0       1.854340  \n",
              "3                -0.450605    -0.249918     0       1.854340  \n",
              "4                -0.450605    -0.249918     0       1.854340  \n",
              "...                    ...          ...   ...            ...  \n",
              "203978           -0.450605     0.193851     0       1.854340  \n",
              "203979           -0.450605    -0.484628     0       1.854340  \n",
              "203980           -0.450605    -0.936947     0      -0.624025  \n",
              "203981           -0.450605    -0.936947     0       1.854340  \n",
              "203982            0.098872     0.646171     0       0.036872  \n",
              "\n",
              "[203983 rows x 6 columns]"
            ],
            "text/html": [
              "\n",
              "  <div id=\"df-ed394ec7-3157-44d9-a30e-1c6a6f02c123\">\n",
              "    <div class=\"colab-df-container\">\n",
              "      <div>\n",
              "<style scoped>\n",
              "    .dataframe tbody tr th:only-of-type {\n",
              "        vertical-align: middle;\n",
              "    }\n",
              "\n",
              "    .dataframe tbody tr th {\n",
              "        vertical-align: top;\n",
              "    }\n",
              "\n",
              "    .dataframe thead th {\n",
              "        text-align: right;\n",
              "    }\n",
              "</style>\n",
              "<table border=\"1\" class=\"dataframe\">\n",
              "  <thead>\n",
              "    <tr style=\"text-align: right;\">\n",
              "      <th></th>\n",
              "      <th>content</th>\n",
              "      <th>depth</th>\n",
              "      <th>intersection_ratio</th>\n",
              "      <th>content_len</th>\n",
              "      <th>label</th>\n",
              "      <th>dom_tree_type</th>\n",
              "    </tr>\n",
              "  </thead>\n",
              "  <tbody>\n",
              "    <tr>\n",
              "      <th>0</th>\n",
              "      <td>دیده بان پیشرفت علم، فناوری و نوآوری</td>\n",
              "      <td>-1.782091</td>\n",
              "      <td>-0.450605</td>\n",
              "      <td>-0.207098</td>\n",
              "      <td>0</td>\n",
              "      <td>1.854340</td>\n",
              "    </tr>\n",
              "    <tr>\n",
              "      <th>1</th>\n",
              "      <td>دیده بان پیشرفت علم، فناوری و نوآوری</td>\n",
              "      <td>-1.782091</td>\n",
              "      <td>-0.450605</td>\n",
              "      <td>-0.207098</td>\n",
              "      <td>0</td>\n",
              "      <td>1.854340</td>\n",
              "    </tr>\n",
              "    <tr>\n",
              "      <th>2</th>\n",
              "      <td>زیست بوم دانش و فناوری</td>\n",
              "      <td>1.406763</td>\n",
              "      <td>-0.450605</td>\n",
              "      <td>-0.249918</td>\n",
              "      <td>0</td>\n",
              "      <td>1.854340</td>\n",
              "    </tr>\n",
              "    <tr>\n",
              "      <th>3</th>\n",
              "      <td>انقلاب اسلامی و دفاع مقدس</td>\n",
              "      <td>1.406763</td>\n",
              "      <td>-0.450605</td>\n",
              "      <td>-0.249918</td>\n",
              "      <td>0</td>\n",
              "      <td>1.854340</td>\n",
              "    </tr>\n",
              "    <tr>\n",
              "      <th>4</th>\n",
              "      <td>زیست بوم دانش و فناوری</td>\n",
              "      <td>-0.719140</td>\n",
              "      <td>-0.450605</td>\n",
              "      <td>-0.249918</td>\n",
              "      <td>0</td>\n",
              "      <td>1.854340</td>\n",
              "    </tr>\n",
              "    <tr>\n",
              "      <th>...</th>\n",
              "      <td>...</td>\n",
              "      <td>...</td>\n",
              "      <td>...</td>\n",
              "      <td>...</td>\n",
              "      <td>...</td>\n",
              "      <td>...</td>\n",
              "    </tr>\n",
              "    <tr>\n",
              "      <th>203978</th>\n",
              "      <td>قانون شماره 5: بیشتر از دهان، گوشتان را باز كنید</td>\n",
              "      <td>-0.216943</td>\n",
              "      <td>-0.450605</td>\n",
              "      <td>0.193851</td>\n",
              "      <td>0</td>\n",
              "      <td>1.854340</td>\n",
              "    </tr>\n",
              "    <tr>\n",
              "      <th>203979</th>\n",
              "      <td>قانون شماره 6: برای ماندن برنامه‌ریزی كنید</td>\n",
              "      <td>-0.216943</td>\n",
              "      <td>-0.450605</td>\n",
              "      <td>-0.484628</td>\n",
              "      <td>0</td>\n",
              "      <td>1.854340</td>\n",
              "    </tr>\n",
              "    <tr>\n",
              "      <th>203980</th>\n",
              "      <td>عضویت در اینستاگرام عصر ایران</td>\n",
              "      <td>0.385849</td>\n",
              "      <td>-0.450605</td>\n",
              "      <td>-0.936947</td>\n",
              "      <td>0</td>\n",
              "      <td>-0.624025</td>\n",
              "    </tr>\n",
              "    <tr>\n",
              "      <th>203981</th>\n",
              "      <td>اخبار و تحلیل های ترکیه</td>\n",
              "      <td>1.591434</td>\n",
              "      <td>-0.450605</td>\n",
              "      <td>-0.936947</td>\n",
              "      <td>0</td>\n",
              "      <td>1.854340</td>\n",
              "    </tr>\n",
              "    <tr>\n",
              "      <th>203982</th>\n",
              "      <td>كليه حقوق محفوظ است، استفاده از مطالب با ذكر م...</td>\n",
              "      <td>-2.628113</td>\n",
              "      <td>0.098872</td>\n",
              "      <td>0.646171</td>\n",
              "      <td>0</td>\n",
              "      <td>0.036872</td>\n",
              "    </tr>\n",
              "  </tbody>\n",
              "</table>\n",
              "<p>203983 rows × 6 columns</p>\n",
              "</div>\n",
              "      <button class=\"colab-df-convert\" onclick=\"convertToInteractive('df-ed394ec7-3157-44d9-a30e-1c6a6f02c123')\"\n",
              "              title=\"Convert this dataframe to an interactive table.\"\n",
              "              style=\"display:none;\">\n",
              "        \n",
              "  <svg xmlns=\"http://www.w3.org/2000/svg\" height=\"24px\"viewBox=\"0 0 24 24\"\n",
              "       width=\"24px\">\n",
              "    <path d=\"M0 0h24v24H0V0z\" fill=\"none\"/>\n",
              "    <path d=\"M18.56 5.44l.94 2.06.94-2.06 2.06-.94-2.06-.94-.94-2.06-.94 2.06-2.06.94zm-11 1L8.5 8.5l.94-2.06 2.06-.94-2.06-.94L8.5 2.5l-.94 2.06-2.06.94zm10 10l.94 2.06.94-2.06 2.06-.94-2.06-.94-.94-2.06-.94 2.06-2.06.94z\"/><path d=\"M17.41 7.96l-1.37-1.37c-.4-.4-.92-.59-1.43-.59-.52 0-1.04.2-1.43.59L10.3 9.45l-7.72 7.72c-.78.78-.78 2.05 0 2.83L4 21.41c.39.39.9.59 1.41.59.51 0 1.02-.2 1.41-.59l7.78-7.78 2.81-2.81c.8-.78.8-2.07 0-2.86zM5.41 20L4 18.59l7.72-7.72 1.47 1.35L5.41 20z\"/>\n",
              "  </svg>\n",
              "      </button>\n",
              "      \n",
              "  <style>\n",
              "    .colab-df-container {\n",
              "      display:flex;\n",
              "      flex-wrap:wrap;\n",
              "      gap: 12px;\n",
              "    }\n",
              "\n",
              "    .colab-df-convert {\n",
              "      background-color: #E8F0FE;\n",
              "      border: none;\n",
              "      border-radius: 50%;\n",
              "      cursor: pointer;\n",
              "      display: none;\n",
              "      fill: #1967D2;\n",
              "      height: 32px;\n",
              "      padding: 0 0 0 0;\n",
              "      width: 32px;\n",
              "    }\n",
              "\n",
              "    .colab-df-convert:hover {\n",
              "      background-color: #E2EBFA;\n",
              "      box-shadow: 0px 1px 2px rgba(60, 64, 67, 0.3), 0px 1px 3px 1px rgba(60, 64, 67, 0.15);\n",
              "      fill: #174EA6;\n",
              "    }\n",
              "\n",
              "    [theme=dark] .colab-df-convert {\n",
              "      background-color: #3B4455;\n",
              "      fill: #D2E3FC;\n",
              "    }\n",
              "\n",
              "    [theme=dark] .colab-df-convert:hover {\n",
              "      background-color: #434B5C;\n",
              "      box-shadow: 0px 1px 3px 1px rgba(0, 0, 0, 0.15);\n",
              "      filter: drop-shadow(0px 1px 2px rgba(0, 0, 0, 0.3));\n",
              "      fill: #FFFFFF;\n",
              "    }\n",
              "  </style>\n",
              "\n",
              "      <script>\n",
              "        const buttonEl =\n",
              "          document.querySelector('#df-ed394ec7-3157-44d9-a30e-1c6a6f02c123 button.colab-df-convert');\n",
              "        buttonEl.style.display =\n",
              "          google.colab.kernel.accessAllowed ? 'block' : 'none';\n",
              "\n",
              "        async function convertToInteractive(key) {\n",
              "          const element = document.querySelector('#df-ed394ec7-3157-44d9-a30e-1c6a6f02c123');\n",
              "          const dataTable =\n",
              "            await google.colab.kernel.invokeFunction('convertToInteractive',\n",
              "                                                     [key], {});\n",
              "          if (!dataTable) return;\n",
              "\n",
              "          const docLinkHtml = 'Like what you see? Visit the ' +\n",
              "            '<a target=\"_blank\" href=https://colab.research.google.com/notebooks/data_table.ipynb>data table notebook</a>'\n",
              "            + ' to learn more about interactive tables.';\n",
              "          element.innerHTML = '';\n",
              "          dataTable['output_type'] = 'display_data';\n",
              "          await google.colab.output.renderOutput(dataTable, element);\n",
              "          const docLink = document.createElement('div');\n",
              "          docLink.innerHTML = docLinkHtml;\n",
              "          element.appendChild(docLink);\n",
              "        }\n",
              "      </script>\n",
              "    </div>\n",
              "  </div>\n",
              "  "
            ]
          },
          "metadata": {},
          "execution_count": 13
        }
      ]
    },
    {
      "cell_type": "markdown",
      "source": [
        "# Saving feature_df for future uses"
      ],
      "metadata": {
        "id": "-9D0GsaMaX8b"
      }
    },
    {
      "cell_type": "code",
      "source": [
        "# from google.colab import drive\n",
        "# drive.mount('/content/drive')"
      ],
      "metadata": {
        "id": "gab4g5YBcyjF"
      },
      "execution_count": null,
      "outputs": []
    },
    {
      "cell_type": "code",
      "source": [
        "# output.to_csv('/content/drive/MyDrive/output.csv', encoding='utf-8')"
      ],
      "metadata": {
        "id": "2R2pkPVkYBk-"
      },
      "execution_count": null,
      "outputs": []
    },
    {
      "cell_type": "code",
      "source": [
        "# df_out_csv = pd.read_csv('/content/drive/MyDrive/output.csv')"
      ],
      "metadata": {
        "id": "170VMbCabaVr"
      },
      "execution_count": null,
      "outputs": []
    },
    {
      "cell_type": "markdown",
      "source": [
        "# Training models"
      ],
      "metadata": {
        "id": "kRwUb0Qr9w-8"
      }
    },
    {
      "cell_type": "markdown",
      "source": [
        "## Extra Trees Classifier"
      ],
      "metadata": {
        "id": "rDHp7JPgf0AJ"
      }
    },
    {
      "cell_type": "code",
      "source": [
        "from sklearn.model_selection import train_test_split\n",
        "from sklearn.metrics import f1_score,roc_auc_score, accuracy_score, precision_score, recall_score, confusion_matrix\n",
        "\n",
        "import seaborn as sn\n",
        "import matplotlib.pyplot as plt\n",
        "plt.style.use('seaborn')"
      ],
      "metadata": {
        "id": "lbvUfYN593PX"
      },
      "execution_count": null,
      "outputs": []
    },
    {
      "cell_type": "code",
      "source": [
        "def confusion_matrix_(test_labels, predicted_labels, version):\n",
        "    if not os.path.exists('result'):\n",
        "        os.makedirs('result')\n",
        "\n",
        "    print(\"\\nconfusion_matrix\\n\")\n",
        "    cm = confusion_matrix(test_labels, predicted_labels)\n",
        "    plt.subplots(figsize=(10, 6))\n",
        "    sn.heatmap(cm, annot = True, fmt = 'd', cmap=\"Blues\")\n",
        "    plt.xlabel(\"Predicted\")\n",
        "    plt.ylabel(\"Actual\")\n",
        "    plt.title(\"Confusion Matrix\")\n",
        "    # plt.savefig(f'result/confusion_matrix_{version}.png', bbox_inches='tight')\n",
        "\n",
        "def model_result(y_test,y_pred, version):\n",
        "    ra_score = roc_auc_score(y_test,y_pred)\n",
        "    a_score = accuracy_score(y_test,y_pred)\n",
        "    p_score = precision_score(y_test,y_pred)\n",
        "    r_score = recall_score(y_test,y_pred)\n",
        "    f1 = f1_score(y_test,y_pred)\n",
        "    \n",
        "    print('roc_auc_score : ',ra_score)\n",
        "    print('accuracy_score: ',a_score)\n",
        "    print('precision_score: ',p_score)\n",
        "    print('recall_score: ',r_score)\n",
        "    print('f1-score :', f1)\n",
        "    print('confusion_matrix: ',confusion_matrix(y_test,y_pred))\n",
        "    confusion_matrix_(y_test,y_pred, version)"
      ],
      "metadata": {
        "id": "l80r77ch9x-c"
      },
      "execution_count": null,
      "outputs": []
    },
    {
      "cell_type": "code",
      "source": [
        "output[output[\"label\"] == 2][\"label\"] = 1\n",
        "output['label'] = output['label'].astype(bool)\n",
        "X = output.drop(['label', 'content'],axis=1)\n",
        "# boolean\n",
        "y = output['label']"
      ],
      "metadata": {
        "id": "VgXMTjea-2JI"
      },
      "execution_count": null,
      "outputs": []
    },
    {
      "cell_type": "code",
      "source": [
        "output['label'] = output['label'].astype(int)\n",
        "y_int = output['label']"
      ],
      "metadata": {
        "id": "G0WUkGL2isrN"
      },
      "execution_count": null,
      "outputs": []
    },
    {
      "cell_type": "code",
      "source": [
        "X"
      ],
      "metadata": {
        "colab": {
          "base_uri": "https://localhost:8080/",
          "height": 423
        },
        "id": "OzcCahE7_Yb9",
        "outputId": "e883b3da-30f2-4cff-ea95-1682de645780"
      },
      "execution_count": null,
      "outputs": [
        {
          "output_type": "execute_result",
          "data": {
            "text/plain": [
              "           depth  intersection_ratio  content_len  dom_tree_type\n",
              "0      -1.782091           -0.450605    -0.207098       1.854340\n",
              "1      -1.782091           -0.450605    -0.207098       1.854340\n",
              "2       1.406763           -0.450605    -0.249918       1.854340\n",
              "3       1.406763           -0.450605    -0.249918       1.854340\n",
              "4      -0.719140           -0.450605    -0.249918       1.854340\n",
              "...          ...                 ...          ...            ...\n",
              "203978 -0.216943           -0.450605     0.193851       1.854340\n",
              "203979 -0.216943           -0.450605    -0.484628       1.854340\n",
              "203980  0.385849           -0.450605    -0.936947      -0.624025\n",
              "203981  1.591434           -0.450605    -0.936947       1.854340\n",
              "203982 -2.628113            0.098872     0.646171       0.036872\n",
              "\n",
              "[203983 rows x 4 columns]"
            ],
            "text/html": [
              "\n",
              "  <div id=\"df-8afb4299-64ab-481e-ab49-34c9ca5fdce1\">\n",
              "    <div class=\"colab-df-container\">\n",
              "      <div>\n",
              "<style scoped>\n",
              "    .dataframe tbody tr th:only-of-type {\n",
              "        vertical-align: middle;\n",
              "    }\n",
              "\n",
              "    .dataframe tbody tr th {\n",
              "        vertical-align: top;\n",
              "    }\n",
              "\n",
              "    .dataframe thead th {\n",
              "        text-align: right;\n",
              "    }\n",
              "</style>\n",
              "<table border=\"1\" class=\"dataframe\">\n",
              "  <thead>\n",
              "    <tr style=\"text-align: right;\">\n",
              "      <th></th>\n",
              "      <th>depth</th>\n",
              "      <th>intersection_ratio</th>\n",
              "      <th>content_len</th>\n",
              "      <th>dom_tree_type</th>\n",
              "    </tr>\n",
              "  </thead>\n",
              "  <tbody>\n",
              "    <tr>\n",
              "      <th>0</th>\n",
              "      <td>-1.782091</td>\n",
              "      <td>-0.450605</td>\n",
              "      <td>-0.207098</td>\n",
              "      <td>1.854340</td>\n",
              "    </tr>\n",
              "    <tr>\n",
              "      <th>1</th>\n",
              "      <td>-1.782091</td>\n",
              "      <td>-0.450605</td>\n",
              "      <td>-0.207098</td>\n",
              "      <td>1.854340</td>\n",
              "    </tr>\n",
              "    <tr>\n",
              "      <th>2</th>\n",
              "      <td>1.406763</td>\n",
              "      <td>-0.450605</td>\n",
              "      <td>-0.249918</td>\n",
              "      <td>1.854340</td>\n",
              "    </tr>\n",
              "    <tr>\n",
              "      <th>3</th>\n",
              "      <td>1.406763</td>\n",
              "      <td>-0.450605</td>\n",
              "      <td>-0.249918</td>\n",
              "      <td>1.854340</td>\n",
              "    </tr>\n",
              "    <tr>\n",
              "      <th>4</th>\n",
              "      <td>-0.719140</td>\n",
              "      <td>-0.450605</td>\n",
              "      <td>-0.249918</td>\n",
              "      <td>1.854340</td>\n",
              "    </tr>\n",
              "    <tr>\n",
              "      <th>...</th>\n",
              "      <td>...</td>\n",
              "      <td>...</td>\n",
              "      <td>...</td>\n",
              "      <td>...</td>\n",
              "    </tr>\n",
              "    <tr>\n",
              "      <th>203978</th>\n",
              "      <td>-0.216943</td>\n",
              "      <td>-0.450605</td>\n",
              "      <td>0.193851</td>\n",
              "      <td>1.854340</td>\n",
              "    </tr>\n",
              "    <tr>\n",
              "      <th>203979</th>\n",
              "      <td>-0.216943</td>\n",
              "      <td>-0.450605</td>\n",
              "      <td>-0.484628</td>\n",
              "      <td>1.854340</td>\n",
              "    </tr>\n",
              "    <tr>\n",
              "      <th>203980</th>\n",
              "      <td>0.385849</td>\n",
              "      <td>-0.450605</td>\n",
              "      <td>-0.936947</td>\n",
              "      <td>-0.624025</td>\n",
              "    </tr>\n",
              "    <tr>\n",
              "      <th>203981</th>\n",
              "      <td>1.591434</td>\n",
              "      <td>-0.450605</td>\n",
              "      <td>-0.936947</td>\n",
              "      <td>1.854340</td>\n",
              "    </tr>\n",
              "    <tr>\n",
              "      <th>203982</th>\n",
              "      <td>-2.628113</td>\n",
              "      <td>0.098872</td>\n",
              "      <td>0.646171</td>\n",
              "      <td>0.036872</td>\n",
              "    </tr>\n",
              "  </tbody>\n",
              "</table>\n",
              "<p>203983 rows × 4 columns</p>\n",
              "</div>\n",
              "      <button class=\"colab-df-convert\" onclick=\"convertToInteractive('df-8afb4299-64ab-481e-ab49-34c9ca5fdce1')\"\n",
              "              title=\"Convert this dataframe to an interactive table.\"\n",
              "              style=\"display:none;\">\n",
              "        \n",
              "  <svg xmlns=\"http://www.w3.org/2000/svg\" height=\"24px\"viewBox=\"0 0 24 24\"\n",
              "       width=\"24px\">\n",
              "    <path d=\"M0 0h24v24H0V0z\" fill=\"none\"/>\n",
              "    <path d=\"M18.56 5.44l.94 2.06.94-2.06 2.06-.94-2.06-.94-.94-2.06-.94 2.06-2.06.94zm-11 1L8.5 8.5l.94-2.06 2.06-.94-2.06-.94L8.5 2.5l-.94 2.06-2.06.94zm10 10l.94 2.06.94-2.06 2.06-.94-2.06-.94-.94-2.06-.94 2.06-2.06.94z\"/><path d=\"M17.41 7.96l-1.37-1.37c-.4-.4-.92-.59-1.43-.59-.52 0-1.04.2-1.43.59L10.3 9.45l-7.72 7.72c-.78.78-.78 2.05 0 2.83L4 21.41c.39.39.9.59 1.41.59.51 0 1.02-.2 1.41-.59l7.78-7.78 2.81-2.81c.8-.78.8-2.07 0-2.86zM5.41 20L4 18.59l7.72-7.72 1.47 1.35L5.41 20z\"/>\n",
              "  </svg>\n",
              "      </button>\n",
              "      \n",
              "  <style>\n",
              "    .colab-df-container {\n",
              "      display:flex;\n",
              "      flex-wrap:wrap;\n",
              "      gap: 12px;\n",
              "    }\n",
              "\n",
              "    .colab-df-convert {\n",
              "      background-color: #E8F0FE;\n",
              "      border: none;\n",
              "      border-radius: 50%;\n",
              "      cursor: pointer;\n",
              "      display: none;\n",
              "      fill: #1967D2;\n",
              "      height: 32px;\n",
              "      padding: 0 0 0 0;\n",
              "      width: 32px;\n",
              "    }\n",
              "\n",
              "    .colab-df-convert:hover {\n",
              "      background-color: #E2EBFA;\n",
              "      box-shadow: 0px 1px 2px rgba(60, 64, 67, 0.3), 0px 1px 3px 1px rgba(60, 64, 67, 0.15);\n",
              "      fill: #174EA6;\n",
              "    }\n",
              "\n",
              "    [theme=dark] .colab-df-convert {\n",
              "      background-color: #3B4455;\n",
              "      fill: #D2E3FC;\n",
              "    }\n",
              "\n",
              "    [theme=dark] .colab-df-convert:hover {\n",
              "      background-color: #434B5C;\n",
              "      box-shadow: 0px 1px 3px 1px rgba(0, 0, 0, 0.15);\n",
              "      filter: drop-shadow(0px 1px 2px rgba(0, 0, 0, 0.3));\n",
              "      fill: #FFFFFF;\n",
              "    }\n",
              "  </style>\n",
              "\n",
              "      <script>\n",
              "        const buttonEl =\n",
              "          document.querySelector('#df-8afb4299-64ab-481e-ab49-34c9ca5fdce1 button.colab-df-convert');\n",
              "        buttonEl.style.display =\n",
              "          google.colab.kernel.accessAllowed ? 'block' : 'none';\n",
              "\n",
              "        async function convertToInteractive(key) {\n",
              "          const element = document.querySelector('#df-8afb4299-64ab-481e-ab49-34c9ca5fdce1');\n",
              "          const dataTable =\n",
              "            await google.colab.kernel.invokeFunction('convertToInteractive',\n",
              "                                                     [key], {});\n",
              "          if (!dataTable) return;\n",
              "\n",
              "          const docLinkHtml = 'Like what you see? Visit the ' +\n",
              "            '<a target=\"_blank\" href=https://colab.research.google.com/notebooks/data_table.ipynb>data table notebook</a>'\n",
              "            + ' to learn more about interactive tables.';\n",
              "          element.innerHTML = '';\n",
              "          dataTable['output_type'] = 'display_data';\n",
              "          await google.colab.output.renderOutput(dataTable, element);\n",
              "          const docLink = document.createElement('div');\n",
              "          docLink.innerHTML = docLinkHtml;\n",
              "          element.appendChild(docLink);\n",
              "        }\n",
              "      </script>\n",
              "    </div>\n",
              "  </div>\n",
              "  "
            ]
          },
          "metadata": {},
          "execution_count": 21
        }
      ]
    },
    {
      "cell_type": "code",
      "source": [
        "x_train, x_test, y_train, y_test = train_test_split(X, y, random_state=42, test_size=0.25, shuffle=True)"
      ],
      "metadata": {
        "id": "YWhrhEir-yPa"
      },
      "execution_count": null,
      "outputs": []
    },
    {
      "cell_type": "code",
      "source": [
        "y.value_counts()"
      ],
      "metadata": {
        "colab": {
          "base_uri": "https://localhost:8080/"
        },
        "id": "3dgQ-QTK_gTk",
        "outputId": "eaa73688-85bc-48fa-d5c1-2def04e5cff4"
      },
      "execution_count": null,
      "outputs": [
        {
          "output_type": "execute_result",
          "data": {
            "text/plain": [
              "False    198543\n",
              "True       5440\n",
              "Name: label, dtype: int64"
            ]
          },
          "metadata": {},
          "execution_count": 23
        }
      ]
    },
    {
      "cell_type": "code",
      "source": [
        "from sklearn.ensemble import ExtraTreesClassifier\n",
        "\n",
        "clf = ExtraTreesClassifier(n_estimators=10, criterion='entropy', random_state=0)\n",
        "\n",
        "#Train the model using the training sets\n",
        "clf.fit(x_train, y_train)\n",
        "y_pred = clf.predict(x_test.fillna(0))\n",
        "\n",
        "model_result(y_test,y_pred, version='ExtraTreesClassifier_entropy')"
      ],
      "metadata": {
        "colab": {
          "base_uri": "https://localhost:8080/",
          "height": 736
        },
        "id": "8ndlNKfoAio9",
        "outputId": "a21eae6d-ce1d-4ada-8883-87f75185576c"
      },
      "execution_count": null,
      "outputs": [
        {
          "output_type": "stream",
          "name": "stdout",
          "text": [
            "roc_auc_score :  0.961564054944104\n",
            "accuracy_score:  0.9968821084006588\n",
            "precision_score:  0.956221198156682\n",
            "recall_score:  0.9242761692650334\n",
            "f1-score : 0.9399773499433749\n",
            "confusion_matrix:  [[49592    57]\n",
            " [  102  1245]]\n",
            "\n",
            "confusion_matrix\n",
            "\n"
          ]
        },
        {
          "output_type": "display_data",
          "data": {
            "text/plain": [
              "<Figure size 1000x600 with 2 Axes>"
            ],
            "image/png": "[encoded data removed]"
          },
          "metadata": {}
        }
      ]
    },
    {
      "cell_type": "markdown",
      "source": [
        "## Random Forest"
      ],
      "metadata": {
        "id": "SkFaYjoWfvmg"
      }
    },
    {
      "cell_type": "code",
      "source": [
        "from sklearn.ensemble import RandomForestClassifier\n",
        "\n",
        "\n",
        "random_forest_clf = RandomForestClassifier(max_depth=20)\n",
        "\n",
        "#Train the model using the training sets\n",
        "random_forest_clf.fit(x_train, y_train)\n",
        "y_pred = random_forest_clf.predict(x_test.fillna(0))\n",
        "\n",
        "model_result(y_test,y_pred, version='RandomForestClassifier')"
      ],
      "metadata": {
        "id": "MUKQQgkQCqkr",
        "colab": {
          "base_uri": "https://localhost:8080/",
          "height": 736
        },
        "outputId": "6d8de540-55fe-405c-e125-9c5b72dc70a1"
      },
      "execution_count": null,
      "outputs": [
        {
          "output_type": "stream",
          "name": "stdout",
          "text": [
            "roc_auc_score :  0.9618258930475906\n",
            "accuracy_score:  0.9973919523099851\n",
            "precision_score:  0.975705329153605\n",
            "recall_score:  0.9242761692650334\n",
            "f1-score : 0.9492947007243614\n",
            "confusion_matrix:  [[49618    31]\n",
            " [  102  1245]]\n",
            "\n",
            "confusion_matrix\n",
            "\n"
          ]
        },
        {
          "output_type": "display_data",
          "data": {
            "text/plain": [
              "<Figure size 1000x600 with 2 Axes>"
            ],
            "image/png": "[encoded data removed]"
          },
          "metadata": {}
        }
      ]
    },
    {
      "cell_type": "markdown",
      "source": [
        "## Neural Network"
      ],
      "metadata": {
        "id": "iO8XNQn6frk1"
      }
    },
    {
      "cell_type": "code",
      "source": [
        "x_train, x_test, y_train, y_test = train_test_split(X, y_int, random_state=42, test_size=0.25, shuffle=True)"
      ],
      "metadata": {
        "id": "nKsNy-Vyhp-D"
      },
      "execution_count": null,
      "outputs": []
    },
    {
      "cell_type": "code",
      "source": [
        "# computing class weights for unbalenced data\n",
        "from sklearn.utils import class_weight\n",
        "\n",
        "weight = class_weight.compute_class_weight(class_weight ='balanced', classes = np.unique(y_train), y = y_train)\n",
        "weights = {i : weight[i] for i in range(2)}\n",
        "weights"
      ],
      "metadata": {
        "colab": {
          "base_uri": "https://localhost:8080/"
        },
        "id": "oN5nEydOkhqE",
        "outputId": "3f060029-3fba-4f6b-925f-d2725ac896ef"
      },
      "execution_count": null,
      "outputs": [
        {
          "output_type": "execute_result",
          "data": {
            "text/plain": [
              "{0: 0.5137446774215213, 1: 18.68885902760811}"
            ]
          },
          "metadata": {},
          "execution_count": 27
        }
      ]
    },
    {
      "cell_type": "code",
      "source": [
        "from numpy import argmax\n",
        "from keras.utils import to_categorical\n",
        "\n",
        "# one hot encoding\n",
        "y_train = to_categorical(y_train)\n",
        "# print('y_train onehot:')\n",
        "# print(y_train)\n",
        "\n",
        "# one hot encoding\n",
        "y_test = to_categorical(y_test)\n",
        "# print('y_test onehot:')\n",
        "# print(y_test)"
      ],
      "metadata": {
        "id": "sLb0n3f3lCo7"
      },
      "execution_count": null,
      "outputs": []
    },
    {
      "cell_type": "code",
      "source": [
        "import tensorflow as tf\n",
        "model = tf.keras.Sequential([\n",
        "    tf.keras.layers.Dense(3, activation='relu'),\n",
        "    tf.keras.layers.Dense(8, activation='relu'),\n",
        "    tf.keras.layers.Dense(8, activation='relu'),\n",
        "    tf.keras.layers.Dense(2, activation='softmax')\n",
        "  ])\n",
        "model"
      ],
      "metadata": {
        "id": "-5ob71leribw",
        "colab": {
          "base_uri": "https://localhost:8080/"
        },
        "outputId": "48a6f15b-aab2-4b41-e3e0-7b2da441b936"
      },
      "execution_count": null,
      "outputs": [
        {
          "output_type": "execute_result",
          "data": {
            "text/plain": [
              "<keras.engine.sequential.Sequential at 0x7fe9eebcc5e0>"
            ]
          },
          "metadata": {},
          "execution_count": 29
        }
      ]
    },
    {
      "cell_type": "code",
      "source": [
        "model.compile(optimizer='Adam',\n",
        "              loss='categorical_crossentropy',\n",
        "              metrics='accuracy')"
      ],
      "metadata": {
        "id": "mVCNiY4NfKoT"
      },
      "execution_count": null,
      "outputs": []
    },
    {
      "cell_type": "code",
      "source": [
        "model.fit(x_train, y_train, batch_size=256, epochs=20, class_weight=weights)"
      ],
      "metadata": {
        "colab": {
          "base_uri": "https://localhost:8080/"
        },
        "id": "ljxin6uAfKv-",
        "outputId": "99b8c58c-c365-410c-f648-b4d6c98de608"
      },
      "execution_count": null,
      "outputs": [
        {
          "output_type": "stream",
          "name": "stdout",
          "text": [
            "Epoch 1/20\n",
            "598/598 [==============================] - 3s 2ms/step - loss: 0.2882 - accuracy: 0.9202\n",
            "Epoch 2/20\n",
            "598/598 [==============================] - 1s 2ms/step - loss: 0.1496 - accuracy: 0.9551\n",
            "Epoch 3/20\n",
            "598/598 [==============================] - 1s 2ms/step - loss: 0.1324 - accuracy: 0.9656\n",
            "Epoch 4/20\n",
            "598/598 [==============================] - 2s 3ms/step - loss: 0.1176 - accuracy: 0.9745\n",
            "Epoch 5/20\n",
            "598/598 [==============================] - 2s 4ms/step - loss: 0.1095 - accuracy: 0.9784\n",
            "Epoch 6/20\n",
            "598/598 [==============================] - 1s 2ms/step - loss: 0.1024 - accuracy: 0.9803\n",
            "Epoch 7/20\n",
            "598/598 [==============================] - 1s 2ms/step - loss: 0.0960 - accuracy: 0.9811\n",
            "Epoch 8/20\n",
            "598/598 [==============================] - 1s 2ms/step - loss: 0.0943 - accuracy: 0.9819\n",
            "Epoch 9/20\n",
            "598/598 [==============================] - 1s 2ms/step - loss: 0.0936 - accuracy: 0.9803\n",
            "Epoch 10/20\n",
            "598/598 [==============================] - 1s 2ms/step - loss: 0.0910 - accuracy: 0.9806\n",
            "Epoch 11/20\n",
            "598/598 [==============================] - 1s 2ms/step - loss: 0.0888 - accuracy: 0.9803\n",
            "Epoch 12/20\n",
            "598/598 [==============================] - 1s 2ms/step - loss: 0.0885 - accuracy: 0.9804\n",
            "Epoch 13/20\n",
            "598/598 [==============================] - 1s 2ms/step - loss: 0.0876 - accuracy: 0.9811\n",
            "Epoch 14/20\n",
            "598/598 [==============================] - 1s 2ms/step - loss: 0.0879 - accuracy: 0.9805\n",
            "Epoch 15/20\n",
            "598/598 [==============================] - 2s 3ms/step - loss: 0.0874 - accuracy: 0.9797\n",
            "Epoch 16/20\n",
            "598/598 [==============================] - 1s 2ms/step - loss: 0.0868 - accuracy: 0.9803\n",
            "Epoch 17/20\n",
            "598/598 [==============================] - 1s 2ms/step - loss: 0.0867 - accuracy: 0.9809\n",
            "Epoch 18/20\n",
            "598/598 [==============================] - 1s 2ms/step - loss: 0.0869 - accuracy: 0.9788\n",
            "Epoch 19/20\n",
            "598/598 [==============================] - 1s 2ms/step - loss: 0.0864 - accuracy: 0.9798\n",
            "Epoch 20/20\n",
            "598/598 [==============================] - 1s 2ms/step - loss: 0.0857 - accuracy: 0.9788\n"
          ]
        },
        {
          "output_type": "execute_result",
          "data": {
            "text/plain": [
              "<keras.callbacks.History at 0x7fe9ec2cd120>"
            ]
          },
          "metadata": {},
          "execution_count": 31
        }
      ]
    },
    {
      "cell_type": "code",
      "source": [
        "loss, accuracy = model.evaluate(x_test, y_test, verbose=0)\n",
        "print('Test loss:', loss)\n",
        "print('Test accuracy:', accuracy)"
      ],
      "metadata": {
        "id": "PgqQXqzEgjxI",
        "colab": {
          "base_uri": "https://localhost:8080/"
        },
        "outputId": "720a92b1-c8cf-47ca-a858-3976a0d23ea0"
      },
      "execution_count": null,
      "outputs": [
        {
          "output_type": "stream",
          "name": "stdout",
          "text": [
            "Test loss: 0.09156301617622375\n",
            "Test accuracy: 0.9755862951278687\n"
          ]
        }
      ]
    },
    {
      "cell_type": "code",
      "source": [
        "y_pred = model.predict(x_test)\n",
        "actual = np.argmax(y_test,axis=1)\n",
        "predicted = np.argmax(y_pred,axis=1)\n",
        "print(f\"Actual: {actual}\")\n",
        "print(f\"Predicted: {predicted}\")"
      ],
      "metadata": {
        "id": "vlOsY2aygwHC",
        "colab": {
          "base_uri": "https://localhost:8080/"
        },
        "outputId": "bc83235d-33a4-4237-fb4a-6a63848d455f"
      },
      "execution_count": null,
      "outputs": [
        {
          "output_type": "stream",
          "name": "stdout",
          "text": [
            "1594/1594 [==============================] - 3s 2ms/step\n",
            "Actual: [0 0 0 ... 0 0 0]\n",
            "Predicted: [0 0 0 ... 0 0 0]\n"
          ]
        }
      ]
    },
    {
      "cell_type": "code",
      "source": [
        "model_result(actual, predicted, version='Neural Network')"
      ],
      "metadata": {
        "id": "HlsiorPChNR7",
        "colab": {
          "base_uri": "https://localhost:8080/",
          "height": 736
        },
        "outputId": "6ab31aaf-7c5d-4d6e-ed85-9ef8273fe486"
      },
      "execution_count": null,
      "outputs": [
        {
          "output_type": "stream",
          "name": "stdout",
          "text": [
            "roc_auc_score :  0.9578497698236572\n",
            "accuracy_score:  0.9755863204957251\n",
            "precision_score:  0.521004942339374\n",
            "recall_score:  0.9391239792130661\n",
            "f1-score : 0.6701986754966888\n",
            "confusion_matrix:  [[48486  1163]\n",
            " [   82  1265]]\n",
            "\n",
            "confusion_matrix\n",
            "\n"
          ]
        },
        {
          "output_type": "display_data",
          "data": {
            "text/plain": [
              "<Figure size 1000x600 with 2 Axes>"
            ],
            "image/png": "[encoded data removed]"
          },
          "metadata": {}
        }
      ]
    },
    {
      "cell_type": "markdown",
      "source": [
        "# prediction"
      ],
      "metadata": {
        "id": "gV_Aqs_1jPId"
      }
    },
    {
      "cell_type": "code",
      "source": [
        "import urllib.request\n",
        "def get_html_from_url(url_str:str):\n",
        "    \"\"\" get html source from url\"\"\"\n",
        "    fp = urllib.request.urlopen(url_str)\n",
        "    mybytes = fp.read()\n",
        "\n",
        "    html_doc = mybytes.decode(\"utf8\")\n",
        "    fp.close()\n",
        "    return html_doc"
      ],
      "metadata": {
        "id": "GUv0o_Lrtgh0"
      },
      "execution_count": null,
      "outputs": []
    },
    {
      "cell_type": "code",
      "source": [
        "def traverse_h1(t, current_path=None):\n",
        "        \"\"\"find text in input tag and its children\"\"\"\n",
        "        if current_path is None:\n",
        "            current_path = [t.name] # example -> current_path = ['h1']\n",
        "        for tag in t.find_all(recursive=False):\n",
        "\n",
        "            if not tag.find():        \n",
        "                    content = tag.find(string=True) # each string in tag as a content\n",
        "                    print(content)                             \n",
        "            else:\n",
        "                traverse_h1(tag, current_path + [tag.name])"
      ],
      "metadata": {
        "id": "CGjL8Z0VybsD"
      },
      "execution_count": null,
      "outputs": []
    },
    {
      "cell_type": "code",
      "source": [
        "def predict_desc(url_str:str):\n",
        "    html_doc = get_html_from_url(url_str)\n",
        "    soup = BeautifulSoup(html_doc, \"html.parser\")\n",
        "\n",
        "    # finding title and description in the web page if exists\n",
        "    try:\n",
        "        description = soup.find('meta', {'property': 'og:description'})[\"content\"]\n",
        "    except:\n",
        "        description = False\n",
        "    try:\n",
        "        title = soup.find('meta', {'property': 'og:title'})[\"content\"]\n",
        "    except: # use h1 as title\n",
        "        title = traverse_h1(soup.h1)\n",
        "        # title = traverse_h1(soup.h1).text.strip()\n",
        "        print(title)\n",
        "\n",
        "    if not description : # since some pages have description:og tag!\n",
        "        output = feature_extractor(html_doc, title, description=None, ignore_ratio=4, training_mode=False)\n",
        "        output['depth'] = zscore(output['depth'])\n",
        "        output = normalize_dom_intersection(output)\n",
        "        X = output.drop(['content'],axis=1)\n",
        "        # print(X)\n",
        "        y_pred = clf.predict(X)\n",
        "        main_content_index = [i for i, y in enumerate(y_pred) if y == 1]\n",
        "        # print(main_content_index)\n",
        "        pred_decription = output[\"content\"].iloc[main_content_index[0]]\n",
        "        print('pred_decription is:', pred_decription)\n",
        "\n",
        "    else:\n",
        "      print('description exists!')\n",
        "      print('NO NEEED TO PREDICT!')\n",
        "      print(description)"
      ],
      "metadata": {
        "id": "mYDb31TmjOWw"
      },
      "execution_count": null,
      "outputs": []
    },
    {
      "cell_type": "code",
      "source": [
        "predict_desc(url_str=\"http://www.python.org\")"
      ],
      "metadata": {
        "colab": {
          "base_uri": "https://localhost:8080/"
        },
        "id": "kf9408_F3oAx",
        "outputId": "08324210-b35d-4556-dcc7-689051c8d49a"
      },
      "execution_count": null,
      "outputs": [
        {
          "output_type": "stream",
          "name": "stdout",
          "text": [
            "description exists!\n",
            "NO NEEED TO PREDICT!\n",
            "The official home of the Python Programming Language\n"
          ]
        }
      ]
    }
  ]
}
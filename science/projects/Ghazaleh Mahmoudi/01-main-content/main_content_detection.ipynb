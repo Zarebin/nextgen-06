{
  "cells": [
    {
      "attachments": {},
      "cell_type": "markdown",
      "metadata": {},
      "source": [
        "https://colab.research.google.com/drive/1qFmP0Nc2SkQphf8UM3KGtVSG4c3hg2Vp?usp=sharing"
      ]
    },
    {
      "cell_type": "markdown",
      "metadata": {
        "id": "meFTi41DYb2y"
      },
      "source": [
        "# import"
      ]
    },
    {
      "cell_type": "code",
      "execution_count": 1,
      "metadata": {
        "id": "QdDFF6WRuSaQ"
      },
      "outputs": [],
      "source": [
        "import re\n",
        "import os\n",
        "import csv\n",
        "import glob\n",
        "import base64\n",
        "import requests\n",
        "import numpy as np \n",
        "import pandas as pd\n",
        "from tqdm import tqdm\n",
        "from bs4 import BeautifulSoup\n",
        "from scipy.stats import zscore\n",
        "\n",
        "import warnings\n",
        "warnings.filterwarnings(\"ignore\")"
      ]
    },
    {
      "cell_type": "code",
      "execution_count": 2,
      "metadata": {
        "id": "XHnFmYjNrbr8"
      },
      "outputs": [],
      "source": [
        "%%capture\n",
        "!pip install --upgrade --no-cache-dir gdown\n",
        "!pip install tqdm"
      ]
    },
    {
      "cell_type": "markdown",
      "metadata": {
        "id": "TjY6h384K36N"
      },
      "source": [
        "# Download and prepare data\n",
        "\n",
        "\n",
        "because I use google colab to run my code\n",
        "first of all I download my data from google drive\n",
        "this data was uploaded manualy on google drive and\n",
        "are publicly available\n"
      ]
    },
    {
      "cell_type": "code",
      "execution_count": 3,
      "metadata": {
        "id": "IGc_Y5uorv2_"
      },
      "outputs": [],
      "source": [
        "%%capture\n",
        "!gdown 1_iQKcOhqtCPrta3Cz0pjbO02C2VaQ4wV -O data.rar\n",
        "!unrar x \"/content/data.rar\" \"/content/main_content/\""
      ]
    },
    {
      "cell_type": "markdown",
      "metadata": {
        "id": "KtRNnqb_bJRI"
      },
      "source": [
        "# Preprocess function"
      ]
    },
    {
      "cell_type": "markdown",
      "metadata": {
        "id": "EtXW5izOlund"
      },
      "source": [
        "## feature extraction"
      ]
    },
    {
      "cell_type": "code",
      "execution_count": 7,
      "metadata": {
        "id": "HTfL5tOxMKw9"
      },
      "outputs": [],
      "source": [
        "def get_html(url):\n",
        "    page = requests.get(url).content\n",
        "    soup = BeautifulSoup(page, \"html.parser\")\n",
        "    return soup\n",
        "\n",
        "\n",
        "def get_html_from_csv(file_path):\n",
        "    '''\n",
        "    :input : path of csv file.\n",
        "    :output: list of soup corresponding to each page\n",
        "    '''\n",
        "    html64file = pd.read_csv(file_path, encoding='utf8', nrows=500)\n",
        "    pages = []\n",
        "    for i, page_html in html64file.iterrows():\n",
        "        html_string = base64.b64decode(page_html['html'])\n",
        "        pages.append(BeautifulSoup(html_string, \"html.parser\"))\n",
        "\n",
        "    return pages\n",
        "\n",
        "\n",
        "\n",
        "def get_title(soup):\n",
        "    return soup.find('meta', {'property': 'og:title'})[\"content\"]\n",
        "\n",
        "\n",
        "def title_content_intersection_ratio(title, content):\n",
        "    intersection = np.intersect1d(title , content)\n",
        "\n",
        "    if len(content) != 0:\n",
        "        return len(intersection)/len(content)\n",
        "    else:\n",
        "        return 0"
      ]
    },
    {
      "cell_type": "code",
      "execution_count": 26,
      "metadata": {
        "id": "HDsGJxeaGWis"
      },
      "outputs": [],
      "source": [
        "def create_page_feature(page):\n",
        "\n",
        "    content_list = []\n",
        "    title_similarity = []\n",
        "    content_depth_list = []\n",
        "    content_words_number_list = []\n",
        "    labels = []\n",
        "\n",
        "    soup = page\n",
        "\n",
        "    title = get_title(soup)\n",
        "    title_splited = title.split()\n",
        "    description = soup.find('meta', {'property': 'og:description'})[\"content\"]\n",
        "\n",
        "    def traverse(t, current_path=None):\n",
        "        if current_path is None:\n",
        "            current_path = [t.name]\n",
        "\n",
        "        for tag in t.find_all(recursive=False):\n",
        "            if not tag.find():        \n",
        "                path = current_path + [tag.name, tag.find(string=True)]\n",
        "                content = tag.find(string=True)\n",
        "                content_str = str(content)\n",
        "                content_splited = content_str.split()\n",
        "                if content_str != 'None':\n",
        "                    content = tag.find(string=True).strip()\n",
        "\n",
        "                    if content_str == description:\n",
        "                        labels.append(1)\n",
        "                    elif content_str == title:\n",
        "                        labels.append(2)\n",
        "                    else:\n",
        "                        labels.append(0)\n",
        "                    \n",
        "                    content_list.append(content_str)\n",
        "                    content_depth_list.append(float(len(path)))\n",
        "                    content_words_number_list.append(len(content_splited))\n",
        "                    title_similarity.append(\\\n",
        "                            title_content_intersection_ratio\n",
        "                            (title_splited, content_splited))\n",
        "                    \n",
        "            else:\n",
        "                traverse(tag, current_path + [tag.name])\n",
        "            \n",
        "\n",
        "    traverse(soup.body)\n",
        "\n",
        "\n",
        "    # z score normalize number of words\n",
        "    content_words_number_list = zscore(content_words_number_list)\n",
        "    \n",
        "    df_output = pd.DataFrame({'content': content_list,\n",
        "                 'content lengh' : [len(c.split()) for c in content_list],\n",
        "                 'depth': content_depth_list,\n",
        "                 'title_similarity' : title_similarity ,\n",
        "                 'words in content': content_words_number_list, \n",
        "                 'label': labels} )\n",
        "\n",
        "    # drop rows when len(content) <= 3\n",
        "    df_output = df_output[df_output['content lengh']>3]\n",
        "    # frop rows with title_content_intersection_ratio < 0\n",
        "    df_output = df_output[df_output[\"title_similarity\"] > 0]\n",
        "\n",
        "    return df_output"
      ]
    },
    {
      "cell_type": "markdown",
      "metadata": {
        "id": "cTZka0PlllfC"
      },
      "source": [
        "## prepare training data"
      ]
    },
    {
      "cell_type": "code",
      "execution_count": 18,
      "metadata": {
        "id": "GgpOerdkeqhr"
      },
      "outputs": [],
      "source": [
        "def prepare_training_data(webpages_path=['/content/main_content/tasnimnews_all.csv']):\n",
        "    \n",
        "    features_name = ['content',\n",
        "                    'content lengh',\n",
        "                    'depth',\n",
        "                    'title_similarity',\n",
        "                    'words in content',\n",
        "                    'label']\n",
        "    feature_store = pd.DataFrame(columns=features_name) \n",
        " \n",
        "    for path in webpages_path:\n",
        "        feature_store_webpage = pd.DataFrame(columns=features_name) \n",
        "        print(path)\n",
        "        pages = get_html_from_csv(path)\n",
        "        for page in tqdm(pages):\n",
        "            try:\n",
        "                feature_store_webpage = feature_store_webpage.append(create_page_feature(page)) \n",
        "            except:\n",
        "                #When og:description don't appeare in page\n",
        "                continue\n",
        "            \n",
        "            #normal for each website\n",
        "            feature_store_webpage['normalize_depth'] = zscore(feature_store_webpage['depth'])\n",
        "        \n",
        "        feature_store = feature_store.append(feature_store_webpage)\n",
        "\n",
        "    feature_store.reset_index(drop=True, inplace=True)\n",
        "\n",
        "    return feature_store"
      ]
    },
    {
      "cell_type": "markdown",
      "metadata": {
        "id": "kRwUb0Qr9w-8"
      },
      "source": [
        "# Training model"
      ]
    },
    {
      "cell_type": "code",
      "execution_count": 10,
      "metadata": {
        "id": "lbvUfYN593PX"
      },
      "outputs": [],
      "source": [
        "from sklearn.model_selection import train_test_split\n",
        "from sklearn.metrics import f1_score,roc_auc_score\n",
        "from sklearn.metrics import accuracy_score, precision_score\n",
        "from sklearn.metrics import recall_score, confusion_matrix\n",
        "\n",
        "import seaborn as sn\n",
        "import matplotlib.pyplot as plt\n",
        "plt.style.use('seaborn')"
      ]
    },
    {
      "cell_type": "markdown",
      "metadata": {
        "id": "4SCoGVYin11U"
      },
      "source": [
        "## Train test split"
      ]
    },
    {
      "cell_type": "code",
      "execution_count": 32,
      "metadata": {
        "id": "VgXMTjea-2JI"
      },
      "outputs": [],
      "source": [
        "def train_test_split_(dataset):\n",
        "    \n",
        "    dataset[dataset[\"label\"] == 2][\"label\"] = 0\n",
        "    dataset['content lengh'] = dataset['content lengh'].astype(int)\n",
        "    dataset['depth'] = dataset['depth'].astype(int)\n",
        "    dataset['title_similarity'] = dataset['title_similarity'].astype(float)\n",
        "    dataset['normalize_depth'] = dataset['normalize_depth'].astype(float)\n",
        "    dataset['words in content'] = dataset['words in content'].astype(float)\n",
        "    dataset['label'] = dataset['label'].astype(bool)\n",
        "    \n",
        "    X = dataset.drop(['label', 'content'],axis=1)\n",
        "    y = dataset['label']\n",
        "    print(\"labels : \", y.value_counts())\n",
        "    \n",
        "    x_train, x_test, y_train, y_test =\\\n",
        "     train_test_split(X, y, random_state=42, test_size=0.25, shuffle=True)\n",
        "    \n",
        "    return x_train, x_test, y_train, y_test"
      ]
    },
    {
      "cell_type": "markdown",
      "metadata": {
        "id": "wqp3ZDUDnxZI"
      },
      "source": [
        "## Evaluation Metric"
      ]
    },
    {
      "cell_type": "code",
      "execution_count": 12,
      "metadata": {
        "id": "l80r77ch9x-c"
      },
      "outputs": [],
      "source": [
        "def confusion_matrix_(test_labels, predicted_labels, version):\n",
        "    if not os.path.exists('result'):\n",
        "        os.makedirs('result')\n",
        "\n",
        "    print(\"\\nconfusion_matrix\\n\")\n",
        "    cm = confusion_matrix(test_labels, predicted_labels)\n",
        "    plt.subplots(figsize=(10, 6))\n",
        "    sn.heatmap(cm, annot = True, fmt = 'd', cmap=\"Blues\")\n",
        "    plt.xlabel(\"Predicted\")\n",
        "    plt.ylabel(\"Actual\")\n",
        "    plt.title(\"Confusion Matrix\")\n",
        "    plt.savefig(f'confusion_matrix_{version}.png', bbox_inches='tight')\n",
        "\n",
        "def model_result(y_test,y_pred, version):\n",
        "    ra_score = roc_auc_score(y_test,y_pred)\n",
        "    a_score = accuracy_score(y_test,y_pred)\n",
        "    p_score = precision_score(y_test,y_pred)\n",
        "    r_score = recall_score(y_test,y_pred)\n",
        "    f1 = f1_score(y_test,y_pred)\n",
        "    \n",
        "    print('roc_auc_score : ',ra_score)\n",
        "    print('accuracy_score: ',a_score)\n",
        "    print('precision_score: ',p_score)\n",
        "    print('recall_score: ',r_score)\n",
        "    print('f1-score :', f1)\n",
        "    print('confusion_matrix: ',confusion_matrix(y_test,y_pred))\n",
        "    confusion_matrix_(y_test,y_pred, version)"
      ]
    },
    {
      "cell_type": "markdown",
      "metadata": {
        "id": "YTGn1cK6oI5V"
      },
      "source": [
        "## ML Classifier"
      ]
    },
    {
      "cell_type": "code",
      "execution_count": 13,
      "metadata": {
        "id": "fLQY53ybpBov"
      },
      "outputs": [],
      "source": [
        "%%capture\n",
        "!pip install catboost"
      ]
    },
    {
      "cell_type": "code",
      "execution_count": 48,
      "metadata": {
        "id": "8ndlNKfoAio9"
      },
      "outputs": [],
      "source": [
        "from sklearn.ensemble import ExtraTreesClassifier\n",
        "from sklearn.ensemble import RandomForestClassifier\n",
        "from catboost import CatBoostClassifier\n",
        "from sklearn.svm import SVC\n",
        "import xgboost as xgb\n",
        "from sklearn.utils import class_weight\n",
        "\n",
        "def extra_tree_train(x_train, x_test, y_train, y_test):\n",
        "    clf = ExtraTreesClassifier(n_estimators=10, criterion='entropy')\n",
        "    #Train the model using the training sets\n",
        "    clf.fit(x_train, y_train)\n",
        "    y_pred = clf.predict(x_test.fillna(0))\n",
        "    model_result(y_test,y_pred, version='ExtraTreesClassifier_entropy')\n",
        "\n",
        "\n",
        "\n",
        "def random_forest_classifier(x_train, x_test, y_train, y_test):\n",
        "    random_forest_clf = RandomForestClassifier(max_depth=20)\n",
        "    #Train the model using the training sets\n",
        "    random_forest_clf.fit(x_train, y_train)\n",
        "    y_pred = random_forest_clf.predict(x_test.fillna(0))\n",
        "    model_result(y_test,y_pred, version='RandomForestClassifier')\n",
        "\n",
        "\n",
        "\n",
        "def catboost_classifier(x_train, x_test, y_train, y_test):\n",
        "    # initializing the model\n",
        "    cbc = CatBoostClassifier(iterations=100, max_depth=16)\n",
        "\n",
        "    # training the model\n",
        "    cbc.fit(x_train, y_train)\n",
        "    y_pred = cbc.predict(x_test)\n",
        "    model_result(y_test,y_pred, version='CatBoostClassifier')\n",
        "\n",
        "\n",
        "def xgboost_classifier(x_train, x_test, y_train, y_test):\n",
        "    xgb_cl = xgb.XGBClassifier()\n",
        "    xgb_cl.fit(x_train, y_train)\n",
        "    y_pred = xgb_cl.predict(x_test)\n",
        "    model_result(y_test,y_pred, version='XGBClassifier')\n",
        "    print(xgb_cl.feature_importances_)\n",
        "    return xgb_cl\n",
        "\n",
        "def SVM_classifier(x_train, x_test, y_train, y_test):\n",
        "    # define outlier detection model\n",
        "    weight = class_weight.compute_class_weight\\\n",
        "    (class_weight ='balanced', classes = np.unique(y_train), y = y_train)\n",
        "    weights = {i : weight[i] for i in range(2)}\n",
        "\n",
        "    svm_model = SVC(class_weight = weights)\n",
        "    svm_model.fit(x_train, y_train)\n",
        "    y_pred = svm_model.predict(x_test)\n",
        "    model_result(y_test,y_pred, version='SVMClassifier')"
      ]
    },
    {
      "cell_type": "markdown",
      "metadata": {
        "id": "xx8gOzLwqX3M"
      },
      "source": [
        "# Main"
      ]
    },
    {
      "cell_type": "code",
      "execution_count": null,
      "metadata": {
        "id": "hMm2UN7M0eV_"
      },
      "outputs": [],
      "source": [
        "# webpage_path_list = glob.glob(os.path.join('/content/main_content','*_all.csv'))\n",
        "webpage_path_list = ['/content/main_content/isna_all.csv']"
      ]
    },
    {
      "cell_type": "code",
      "execution_count": 28,
      "metadata": {
        "colab": {
          "base_uri": "https://localhost:8080/"
        },
        "id": "AW971t-wetfA",
        "outputId": "56f3b4be-7af0-4050-a61c-2358a8546189"
      },
      "outputs": [
        {
          "name": "stdout",
          "output_type": "stream",
          "text": [
            "/content/main_content/isna_all.csv\n"
          ]
        },
        {
          "name": "stderr",
          "output_type": "stream",
          "text": [
            "100%|██████████| 500/500 [00:23<00:00, 21.22it/s]"
          ]
        },
        {
          "name": "stdout",
          "output_type": "stream",
          "text": [
            "CPU times: user 1min 43s, sys: 964 ms, total: 1min 44s\n",
            "Wall time: 1min 46s\n"
          ]
        },
        {
          "name": "stderr",
          "output_type": "stream",
          "text": [
            "\n"
          ]
        }
      ],
      "source": [
        "%%time\n",
        "warnings.filterwarnings(\"ignore\")\n",
        "dataset = prepare_training_data(webpage_path_list)"
      ]
    },
    {
      "cell_type": "code",
      "execution_count": 29,
      "metadata": {
        "colab": {
          "base_uri": "https://localhost:8080/",
          "height": 424
        },
        "id": "vZ_CAf2Wqiie",
        "outputId": "97732611-6a8e-41a4-c96e-254f58ca753b"
      },
      "outputs": [
        {
          "data": {
            "text/html": [
              "\n",
              "  <div id=\"df-8dee2576-4eb9-401d-8be4-35f6480d8a30\">\n",
              "    <div class=\"colab-df-container\">\n",
              "      <div>\n",
              "<style scoped>\n",
              "    .dataframe tbody tr th:only-of-type {\n",
              "        vertical-align: middle;\n",
              "    }\n",
              "\n",
              "    .dataframe tbody tr th {\n",
              "        vertical-align: top;\n",
              "    }\n",
              "\n",
              "    .dataframe thead th {\n",
              "        text-align: right;\n",
              "    }\n",
              "</style>\n",
              "<table border=\"1\" class=\"dataframe\">\n",
              "  <thead>\n",
              "    <tr style=\"text-align: right;\">\n",
              "      <th></th>\n",
              "      <th>content</th>\n",
              "      <th>content lengh</th>\n",
              "      <th>depth</th>\n",
              "      <th>title_similarity</th>\n",
              "      <th>words in content</th>\n",
              "      <th>label</th>\n",
              "      <th>normalize_depth</th>\n",
              "    </tr>\n",
              "  </thead>\n",
              "  <tbody>\n",
              "    <tr>\n",
              "      <th>0</th>\n",
              "      <td>وزیر ارشاد از چه کسی فروتنانه تقدیر کرد؟</td>\n",
              "      <td>8</td>\n",
              "      <td>13.0</td>\n",
              "      <td>0.125000</td>\n",
              "      <td>0.470607</td>\n",
              "      <td>0</td>\n",
              "      <td>0.081588</td>\n",
              "    </tr>\n",
              "    <tr>\n",
              "      <th>1</th>\n",
              "      <td>پایان جشنواره های فجر ۱۴۰۱ با یاد بابک برزویه ...</td>\n",
              "      <td>18</td>\n",
              "      <td>13.0</td>\n",
              "      <td>0.055556</td>\n",
              "      <td>1.809702</td>\n",
              "      <td>0</td>\n",
              "      <td>0.081588</td>\n",
              "    </tr>\n",
              "    <tr>\n",
              "      <th>2</th>\n",
              "      <td>اختصاص بیش از 10 میلیارد تومان برای اجرای 240 ...</td>\n",
              "      <td>14</td>\n",
              "      <td>12.0</td>\n",
              "      <td>1.000000</td>\n",
              "      <td>1.274064</td>\n",
              "      <td>2</td>\n",
              "      <td>-0.796745</td>\n",
              "    </tr>\n",
              "    <tr>\n",
              "      <th>3</th>\n",
              "      <td>مجید بیکی، امروز چهارشنبه 27 فروردین در جلسه ب...</td>\n",
              "      <td>72</td>\n",
              "      <td>12.0</td>\n",
              "      <td>0.097222</td>\n",
              "      <td>9.040812</td>\n",
              "      <td>0</td>\n",
              "      <td>-0.796745</td>\n",
              "    </tr>\n",
              "    <tr>\n",
              "      <th>4</th>\n",
              "      <td>به گزارش ایسنا، وی گفت: سرجمع اعتبارات سال 98 ...</td>\n",
              "      <td>38</td>\n",
              "      <td>12.0</td>\n",
              "      <td>0.131579</td>\n",
              "      <td>4.487891</td>\n",
              "      <td>0</td>\n",
              "      <td>-0.796745</td>\n",
              "    </tr>\n",
              "    <tr>\n",
              "      <th>...</th>\n",
              "      <td>...</td>\n",
              "      <td>...</td>\n",
              "      <td>...</td>\n",
              "      <td>...</td>\n",
              "      <td>...</td>\n",
              "      <td>...</td>\n",
              "      <td>...</td>\n",
              "    </tr>\n",
              "    <tr>\n",
              "      <th>13398</th>\n",
              "      <td>دستور وزیر صمت به شرکت‌های بزرگ صنعتی و معدنی ...</td>\n",
              "      <td>13</td>\n",
              "      <td>13.0</td>\n",
              "      <td>0.076923</td>\n",
              "      <td>0.552257</td>\n",
              "      <td>0</td>\n",
              "      <td>0.081588</td>\n",
              "    </tr>\n",
              "    <tr>\n",
              "      <th>13399</th>\n",
              "      <td>آمادگی شهرداری تهران برای کمک به توزیع کالاهای...</td>\n",
              "      <td>14</td>\n",
              "      <td>13.0</td>\n",
              "      <td>0.071429</td>\n",
              "      <td>0.629246</td>\n",
              "      <td>0</td>\n",
              "      <td>0.081588</td>\n",
              "    </tr>\n",
              "    <tr>\n",
              "      <th>13400</th>\n",
              "      <td>شیلی برای مقابله با زلزله چه کرد؟</td>\n",
              "      <td>7</td>\n",
              "      <td>13.0</td>\n",
              "      <td>0.142857</td>\n",
              "      <td>0.090320</td>\n",
              "      <td>0</td>\n",
              "      <td>0.081588</td>\n",
              "    </tr>\n",
              "    <tr>\n",
              "      <th>13401</th>\n",
              "      <td>آغاز ثبت‌نام برای متقاضیان خودروهای وارداتی از...</td>\n",
              "      <td>11</td>\n",
              "      <td>13.0</td>\n",
              "      <td>0.090909</td>\n",
              "      <td>0.398278</td>\n",
              "      <td>0</td>\n",
              "      <td>0.081588</td>\n",
              "    </tr>\n",
              "    <tr>\n",
              "      <th>13402</th>\n",
              "      <td>اعمال محدودیت‌های صادراتی جدید آمریکا علیه ایران</td>\n",
              "      <td>7</td>\n",
              "      <td>13.0</td>\n",
              "      <td>0.142857</td>\n",
              "      <td>0.090320</td>\n",
              "      <td>0</td>\n",
              "      <td>0.081588</td>\n",
              "    </tr>\n",
              "  </tbody>\n",
              "</table>\n",
              "<p>13403 rows × 7 columns</p>\n",
              "</div>\n",
              "      <button class=\"colab-df-convert\" onclick=\"convertToInteractive('df-8dee2576-4eb9-401d-8be4-35f6480d8a30')\"\n",
              "              title=\"Convert this dataframe to an interactive table.\"\n",
              "              style=\"display:none;\">\n",
              "        \n",
              "  <svg xmlns=\"http://www.w3.org/2000/svg\" height=\"24px\"viewBox=\"0 0 24 24\"\n",
              "       width=\"24px\">\n",
              "    <path d=\"M0 0h24v24H0V0z\" fill=\"none\"/>\n",
              "    <path d=\"M18.56 5.44l.94 2.06.94-2.06 2.06-.94-2.06-.94-.94-2.06-.94 2.06-2.06.94zm-11 1L8.5 8.5l.94-2.06 2.06-.94-2.06-.94L8.5 2.5l-.94 2.06-2.06.94zm10 10l.94 2.06.94-2.06 2.06-.94-2.06-.94-.94-2.06-.94 2.06-2.06.94z\"/><path d=\"M17.41 7.96l-1.37-1.37c-.4-.4-.92-.59-1.43-.59-.52 0-1.04.2-1.43.59L10.3 9.45l-7.72 7.72c-.78.78-.78 2.05 0 2.83L4 21.41c.39.39.9.59 1.41.59.51 0 1.02-.2 1.41-.59l7.78-7.78 2.81-2.81c.8-.78.8-2.07 0-2.86zM5.41 20L4 18.59l7.72-7.72 1.47 1.35L5.41 20z\"/>\n",
              "  </svg>\n",
              "      </button>\n",
              "      \n",
              "  <style>\n",
              "    .colab-df-container {\n",
              "      display:flex;\n",
              "      flex-wrap:wrap;\n",
              "      gap: 12px;\n",
              "    }\n",
              "\n",
              "    .colab-df-convert {\n",
              "      background-color: #E8F0FE;\n",
              "      border: none;\n",
              "      border-radius: 50%;\n",
              "      cursor: pointer;\n",
              "      display: none;\n",
              "      fill: #1967D2;\n",
              "      height: 32px;\n",
              "      padding: 0 0 0 0;\n",
              "      width: 32px;\n",
              "    }\n",
              "\n",
              "    .colab-df-convert:hover {\n",
              "      background-color: #E2EBFA;\n",
              "      box-shadow: 0px 1px 2px rgba(60, 64, 67, 0.3), 0px 1px 3px 1px rgba(60, 64, 67, 0.15);\n",
              "      fill: #174EA6;\n",
              "    }\n",
              "\n",
              "    [theme=dark] .colab-df-convert {\n",
              "      background-color: #3B4455;\n",
              "      fill: #D2E3FC;\n",
              "    }\n",
              "\n",
              "    [theme=dark] .colab-df-convert:hover {\n",
              "      background-color: #434B5C;\n",
              "      box-shadow: 0px 1px 3px 1px rgba(0, 0, 0, 0.15);\n",
              "      filter: drop-shadow(0px 1px 2px rgba(0, 0, 0, 0.3));\n",
              "      fill: #FFFFFF;\n",
              "    }\n",
              "  </style>\n",
              "\n",
              "      <script>\n",
              "        const buttonEl =\n",
              "          document.querySelector('#df-8dee2576-4eb9-401d-8be4-35f6480d8a30 button.colab-df-convert');\n",
              "        buttonEl.style.display =\n",
              "          google.colab.kernel.accessAllowed ? 'block' : 'none';\n",
              "\n",
              "        async function convertToInteractive(key) {\n",
              "          const element = document.querySelector('#df-8dee2576-4eb9-401d-8be4-35f6480d8a30');\n",
              "          const dataTable =\n",
              "            await google.colab.kernel.invokeFunction('convertToInteractive',\n",
              "                                                     [key], {});\n",
              "          if (!dataTable) return;\n",
              "\n",
              "          const docLinkHtml = 'Like what you see? Visit the ' +\n",
              "            '<a target=\"_blank\" href=https://colab.research.google.com/notebooks/data_table.ipynb>data table notebook</a>'\n",
              "            + ' to learn more about interactive tables.';\n",
              "          element.innerHTML = '';\n",
              "          dataTable['output_type'] = 'display_data';\n",
              "          await google.colab.output.renderOutput(dataTable, element);\n",
              "          const docLink = document.createElement('div');\n",
              "          docLink.innerHTML = docLinkHtml;\n",
              "          element.appendChild(docLink);\n",
              "        }\n",
              "      </script>\n",
              "    </div>\n",
              "  </div>\n",
              "  "
            ],
            "text/plain": [
              "                                                 content content lengh  depth  \\\n",
              "0               وزیر ارشاد از چه کسی فروتنانه تقدیر کرد؟             8   13.0   \n",
              "1      پایان جشنواره های فجر ۱۴۰۱ با یاد بابک برزویه ...            18   13.0   \n",
              "2      اختصاص بیش از 10 میلیارد تومان برای اجرای 240 ...            14   12.0   \n",
              "3      مجید بیکی، امروز چهارشنبه 27 فروردین در جلسه ب...            72   12.0   \n",
              "4      به گزارش ایسنا، وی گفت: سرجمع اعتبارات سال 98 ...            38   12.0   \n",
              "...                                                  ...           ...    ...   \n",
              "13398  دستور وزیر صمت به شرکت‌های بزرگ صنعتی و معدنی ...            13   13.0   \n",
              "13399  آمادگی شهرداری تهران برای کمک به توزیع کالاهای...            14   13.0   \n",
              "13400                  شیلی برای مقابله با زلزله چه کرد؟             7   13.0   \n",
              "13401  آغاز ثبت‌نام برای متقاضیان خودروهای وارداتی از...            11   13.0   \n",
              "13402   اعمال محدودیت‌های صادراتی جدید آمریکا علیه ایران             7   13.0   \n",
              "\n",
              "       title_similarity  words in content label  normalize_depth  \n",
              "0              0.125000          0.470607     0         0.081588  \n",
              "1              0.055556          1.809702     0         0.081588  \n",
              "2              1.000000          1.274064     2        -0.796745  \n",
              "3              0.097222          9.040812     0        -0.796745  \n",
              "4              0.131579          4.487891     0        -0.796745  \n",
              "...                 ...               ...   ...              ...  \n",
              "13398          0.076923          0.552257     0         0.081588  \n",
              "13399          0.071429          0.629246     0         0.081588  \n",
              "13400          0.142857          0.090320     0         0.081588  \n",
              "13401          0.090909          0.398278     0         0.081588  \n",
              "13402          0.142857          0.090320     0         0.081588  \n",
              "\n",
              "[13403 rows x 7 columns]"
            ]
          },
          "execution_count": 29,
          "metadata": {},
          "output_type": "execute_result"
        }
      ],
      "source": [
        "dataset"
      ]
    },
    {
      "cell_type": "code",
      "execution_count": 33,
      "metadata": {
        "colab": {
          "base_uri": "https://localhost:8080/"
        },
        "id": "qXSuB8RbpC4g",
        "outputId": "4aa1b7bd-df51-4a7c-f98e-d5cfeefa21c0"
      },
      "outputs": [
        {
          "name": "stdout",
          "output_type": "stream",
          "text": [
            "labels :  False    12963\n",
            "True       440\n",
            "Name: label, dtype: int64\n",
            "CPU times: user 17.6 ms, sys: 2 ms, total: 19.6 ms\n",
            "Wall time: 29.1 ms\n"
          ]
        }
      ],
      "source": [
        "%%time\n",
        "x_train, x_test, y_train, y_test = train_test_split_(dataset)"
      ]
    },
    {
      "cell_type": "code",
      "execution_count": 34,
      "metadata": {
        "colab": {
          "base_uri": "https://localhost:8080/",
          "height": 424
        },
        "id": "qQJM341nsqYY",
        "outputId": "1d10143e-53ba-4654-c776-b5ec0b4cd18f"
      },
      "outputs": [
        {
          "data": {
            "text/html": [
              "\n",
              "  <div id=\"df-78f54d64-be85-49df-874d-a6b2f7b45e1c\">\n",
              "    <div class=\"colab-df-container\">\n",
              "      <div>\n",
              "<style scoped>\n",
              "    .dataframe tbody tr th:only-of-type {\n",
              "        vertical-align: middle;\n",
              "    }\n",
              "\n",
              "    .dataframe tbody tr th {\n",
              "        vertical-align: top;\n",
              "    }\n",
              "\n",
              "    .dataframe thead th {\n",
              "        text-align: right;\n",
              "    }\n",
              "</style>\n",
              "<table border=\"1\" class=\"dataframe\">\n",
              "  <thead>\n",
              "    <tr style=\"text-align: right;\">\n",
              "      <th></th>\n",
              "      <th>content lengh</th>\n",
              "      <th>depth</th>\n",
              "      <th>title_similarity</th>\n",
              "      <th>words in content</th>\n",
              "      <th>normalize_depth</th>\n",
              "    </tr>\n",
              "  </thead>\n",
              "  <tbody>\n",
              "    <tr>\n",
              "      <th>11482</th>\n",
              "      <td>5</td>\n",
              "      <td>13</td>\n",
              "      <td>0.200000</td>\n",
              "      <td>-0.070772</td>\n",
              "      <td>0.081588</td>\n",
              "    </tr>\n",
              "    <tr>\n",
              "      <th>11034</th>\n",
              "      <td>11</td>\n",
              "      <td>13</td>\n",
              "      <td>0.090909</td>\n",
              "      <td>0.705893</td>\n",
              "      <td>0.081588</td>\n",
              "    </tr>\n",
              "    <tr>\n",
              "      <th>4347</th>\n",
              "      <td>10</td>\n",
              "      <td>12</td>\n",
              "      <td>0.100000</td>\n",
              "      <td>1.094347</td>\n",
              "      <td>-0.796745</td>\n",
              "    </tr>\n",
              "    <tr>\n",
              "      <th>3755</th>\n",
              "      <td>10</td>\n",
              "      <td>13</td>\n",
              "      <td>0.100000</td>\n",
              "      <td>0.909611</td>\n",
              "      <td>0.081588</td>\n",
              "    </tr>\n",
              "    <tr>\n",
              "      <th>4640</th>\n",
              "      <td>6</td>\n",
              "      <td>13</td>\n",
              "      <td>0.166667</td>\n",
              "      <td>-0.086102</td>\n",
              "      <td>0.081588</td>\n",
              "    </tr>\n",
              "    <tr>\n",
              "      <th>...</th>\n",
              "      <td>...</td>\n",
              "      <td>...</td>\n",
              "      <td>...</td>\n",
              "      <td>...</td>\n",
              "      <td>...</td>\n",
              "    </tr>\n",
              "    <tr>\n",
              "      <th>11964</th>\n",
              "      <td>9</td>\n",
              "      <td>13</td>\n",
              "      <td>0.111111</td>\n",
              "      <td>0.414235</td>\n",
              "      <td>0.081588</td>\n",
              "    </tr>\n",
              "    <tr>\n",
              "      <th>5191</th>\n",
              "      <td>7</td>\n",
              "      <td>12</td>\n",
              "      <td>1.000000</td>\n",
              "      <td>0.368615</td>\n",
              "      <td>-0.796745</td>\n",
              "    </tr>\n",
              "    <tr>\n",
              "      <th>5390</th>\n",
              "      <td>89</td>\n",
              "      <td>14</td>\n",
              "      <td>0.011236</td>\n",
              "      <td>7.264266</td>\n",
              "      <td>0.959921</td>\n",
              "    </tr>\n",
              "    <tr>\n",
              "      <th>860</th>\n",
              "      <td>18</td>\n",
              "      <td>13</td>\n",
              "      <td>0.055556</td>\n",
              "      <td>3.129751</td>\n",
              "      <td>0.081588</td>\n",
              "    </tr>\n",
              "    <tr>\n",
              "      <th>7270</th>\n",
              "      <td>8</td>\n",
              "      <td>13</td>\n",
              "      <td>0.250000</td>\n",
              "      <td>-0.105337</td>\n",
              "      <td>0.081588</td>\n",
              "    </tr>\n",
              "  </tbody>\n",
              "</table>\n",
              "<p>10052 rows × 5 columns</p>\n",
              "</div>\n",
              "      <button class=\"colab-df-convert\" onclick=\"convertToInteractive('df-78f54d64-be85-49df-874d-a6b2f7b45e1c')\"\n",
              "              title=\"Convert this dataframe to an interactive table.\"\n",
              "              style=\"display:none;\">\n",
              "        \n",
              "  <svg xmlns=\"http://www.w3.org/2000/svg\" height=\"24px\"viewBox=\"0 0 24 24\"\n",
              "       width=\"24px\">\n",
              "    <path d=\"M0 0h24v24H0V0z\" fill=\"none\"/>\n",
              "    <path d=\"M18.56 5.44l.94 2.06.94-2.06 2.06-.94-2.06-.94-.94-2.06-.94 2.06-2.06.94zm-11 1L8.5 8.5l.94-2.06 2.06-.94-2.06-.94L8.5 2.5l-.94 2.06-2.06.94zm10 10l.94 2.06.94-2.06 2.06-.94-2.06-.94-.94-2.06-.94 2.06-2.06.94z\"/><path d=\"M17.41 7.96l-1.37-1.37c-.4-.4-.92-.59-1.43-.59-.52 0-1.04.2-1.43.59L10.3 9.45l-7.72 7.72c-.78.78-.78 2.05 0 2.83L4 21.41c.39.39.9.59 1.41.59.51 0 1.02-.2 1.41-.59l7.78-7.78 2.81-2.81c.8-.78.8-2.07 0-2.86zM5.41 20L4 18.59l7.72-7.72 1.47 1.35L5.41 20z\"/>\n",
              "  </svg>\n",
              "      </button>\n",
              "      \n",
              "  <style>\n",
              "    .colab-df-container {\n",
              "      display:flex;\n",
              "      flex-wrap:wrap;\n",
              "      gap: 12px;\n",
              "    }\n",
              "\n",
              "    .colab-df-convert {\n",
              "      background-color: #E8F0FE;\n",
              "      border: none;\n",
              "      border-radius: 50%;\n",
              "      cursor: pointer;\n",
              "      display: none;\n",
              "      fill: #1967D2;\n",
              "      height: 32px;\n",
              "      padding: 0 0 0 0;\n",
              "      width: 32px;\n",
              "    }\n",
              "\n",
              "    .colab-df-convert:hover {\n",
              "      background-color: #E2EBFA;\n",
              "      box-shadow: 0px 1px 2px rgba(60, 64, 67, 0.3), 0px 1px 3px 1px rgba(60, 64, 67, 0.15);\n",
              "      fill: #174EA6;\n",
              "    }\n",
              "\n",
              "    [theme=dark] .colab-df-convert {\n",
              "      background-color: #3B4455;\n",
              "      fill: #D2E3FC;\n",
              "    }\n",
              "\n",
              "    [theme=dark] .colab-df-convert:hover {\n",
              "      background-color: #434B5C;\n",
              "      box-shadow: 0px 1px 3px 1px rgba(0, 0, 0, 0.15);\n",
              "      filter: drop-shadow(0px 1px 2px rgba(0, 0, 0, 0.3));\n",
              "      fill: #FFFFFF;\n",
              "    }\n",
              "  </style>\n",
              "\n",
              "      <script>\n",
              "        const buttonEl =\n",
              "          document.querySelector('#df-78f54d64-be85-49df-874d-a6b2f7b45e1c button.colab-df-convert');\n",
              "        buttonEl.style.display =\n",
              "          google.colab.kernel.accessAllowed ? 'block' : 'none';\n",
              "\n",
              "        async function convertToInteractive(key) {\n",
              "          const element = document.querySelector('#df-78f54d64-be85-49df-874d-a6b2f7b45e1c');\n",
              "          const dataTable =\n",
              "            await google.colab.kernel.invokeFunction('convertToInteractive',\n",
              "                                                     [key], {});\n",
              "          if (!dataTable) return;\n",
              "\n",
              "          const docLinkHtml = 'Like what you see? Visit the ' +\n",
              "            '<a target=\"_blank\" href=https://colab.research.google.com/notebooks/data_table.ipynb>data table notebook</a>'\n",
              "            + ' to learn more about interactive tables.';\n",
              "          element.innerHTML = '';\n",
              "          dataTable['output_type'] = 'display_data';\n",
              "          await google.colab.output.renderOutput(dataTable, element);\n",
              "          const docLink = document.createElement('div');\n",
              "          docLink.innerHTML = docLinkHtml;\n",
              "          element.appendChild(docLink);\n",
              "        }\n",
              "      </script>\n",
              "    </div>\n",
              "  </div>\n",
              "  "
            ],
            "text/plain": [
              "       content lengh  depth  title_similarity  words in content  \\\n",
              "11482              5     13          0.200000         -0.070772   \n",
              "11034             11     13          0.090909          0.705893   \n",
              "4347              10     12          0.100000          1.094347   \n",
              "3755              10     13          0.100000          0.909611   \n",
              "4640               6     13          0.166667         -0.086102   \n",
              "...              ...    ...               ...               ...   \n",
              "11964              9     13          0.111111          0.414235   \n",
              "5191               7     12          1.000000          0.368615   \n",
              "5390              89     14          0.011236          7.264266   \n",
              "860               18     13          0.055556          3.129751   \n",
              "7270               8     13          0.250000         -0.105337   \n",
              "\n",
              "       normalize_depth  \n",
              "11482         0.081588  \n",
              "11034         0.081588  \n",
              "4347         -0.796745  \n",
              "3755          0.081588  \n",
              "4640          0.081588  \n",
              "...                ...  \n",
              "11964         0.081588  \n",
              "5191         -0.796745  \n",
              "5390          0.959921  \n",
              "860           0.081588  \n",
              "7270          0.081588  \n",
              "\n",
              "[10052 rows x 5 columns]"
            ]
          },
          "execution_count": 34,
          "metadata": {},
          "output_type": "execute_result"
        }
      ],
      "source": [
        "x_train"
      ]
    },
    {
      "cell_type": "code",
      "execution_count": 35,
      "metadata": {
        "colab": {
          "base_uri": "https://localhost:8080/",
          "height": 770
        },
        "id": "-5ob71leribw",
        "outputId": "f87c47a2-7e89-4654-8ca9-9a5b2980cb23"
      },
      "outputs": [
        {
          "name": "stdout",
          "output_type": "stream",
          "text": [
            "roc_auc_score :  0.9560206598828246\n",
            "accuracy_score:  0.9928379588182632\n",
            "precision_score:  0.868421052631579\n",
            "recall_score:  0.9166666666666666\n",
            "f1-score : 0.8918918918918918\n",
            "confusion_matrix:  [[3228   15]\n",
            " [   9   99]]\n",
            "\n",
            "confusion_matrix\n",
            "\n",
            "CPU times: user 487 ms, sys: 81 ms, total: 568 ms\n",
            "Wall time: 615 ms\n"
          ]
        },
        {
          "data": {
            "image/png": "[encoded data removed]",
            "text/plain": [
              "<Figure size 1000x600 with 2 Axes>"
            ]
          },
          "metadata": {},
          "output_type": "display_data"
        }
      ],
      "source": [
        "%%time\n",
        "extra_tree_train(x_train, x_test, y_train, y_test)"
      ]
    },
    {
      "cell_type": "code",
      "execution_count": 36,
      "metadata": {
        "colab": {
          "base_uri": "https://localhost:8080/",
          "height": 770
        },
        "id": "zJy6RzN3qv07",
        "outputId": "5407b670-f47e-4d95-e016-da31308769a2"
      },
      "outputs": [
        {
          "name": "stdout",
          "output_type": "stream",
          "text": [
            "roc_auc_score :  0.9606502895124542\n",
            "accuracy_score:  0.9931363772008356\n",
            "precision_score:  0.8695652173913043\n",
            "recall_score:  0.9259259259259259\n",
            "f1-score : 0.8968609865470852\n",
            "confusion_matrix:  [[3228   15]\n",
            " [   8  100]]\n",
            "\n",
            "confusion_matrix\n",
            "\n",
            "CPU times: user 800 ms, sys: 104 ms, total: 904 ms\n",
            "Wall time: 797 ms\n"
          ]
        },
        {
          "data": {
            "image/png": "[encoded data removed]",
            "text/plain": [
              "<Figure size 1000x600 with 2 Axes>"
            ]
          },
          "metadata": {},
          "output_type": "display_data"
        }
      ],
      "source": [
        "%%time\n",
        "random_forest_classifier(x_train, x_test, y_train, y_test)"
      ]
    },
    {
      "cell_type": "code",
      "execution_count": 37,
      "metadata": {
        "colab": {
          "base_uri": "https://localhost:8080/",
          "height": 788
        },
        "id": "JQzKMLJvrFzu",
        "outputId": "178c280d-3ac7-4a09-c40b-6753bc8ae60d"
      },
      "outputs": [
        {
          "name": "stdout",
          "output_type": "stream",
          "text": [
            "roc_auc_score :  0.9515452084832289\n",
            "accuracy_score:  0.9928379588182632\n",
            "precision_score:  0.875\n",
            "recall_score:  0.9074074074074074\n",
            "f1-score : 0.8909090909090909\n",
            "confusion_matrix:  [[3229   14]\n",
            " [  10   98]]\n",
            "\n",
            "confusion_matrix\n",
            "\n",
            "[0.00769914 0.10172009 0.8815969  0.00898382 0.        ]\n",
            "CPU times: user 1.2 s, sys: 86 ms, total: 1.29 s\n",
            "Wall time: 806 ms\n"
          ]
        },
        {
          "data": {
            "image/png": "[encoded data removed]",
            "text/plain": [
              "<Figure size 1000x600 with 2 Axes>"
            ]
          },
          "metadata": {},
          "output_type": "display_data"
        }
      ],
      "source": [
        "%%time\n",
        "xgb_model = xgboost_classifier(x_train, x_test, y_train, y_test)"
      ]
    },
    {
      "cell_type": "code",
      "execution_count": 49,
      "metadata": {
        "colab": {
          "base_uri": "https://localhost:8080/",
          "height": 770
        },
        "id": "_kyxrB_GrNF6",
        "outputId": "541a47fd-1351-4404-f605-f7de6441898e"
      },
      "outputs": [
        {
          "name": "stdout",
          "output_type": "stream",
          "text": [
            "roc_auc_score :  0.9731729879740981\n",
            "accuracy_score:  0.9480752014324082\n",
            "precision_score:  0.3829787234042553\n",
            "recall_score:  1.0\n",
            "f1-score : 0.5538461538461539\n",
            "confusion_matrix:  [[3069  174]\n",
            " [   0  108]]\n",
            "\n",
            "confusion_matrix\n",
            "\n",
            "CPU times: user 2.52 s, sys: 160 ms, total: 2.68 s\n",
            "Wall time: 2.56 s\n"
          ]
        },
        {
          "data": {
            "image/png": "[encoded data removed]",
            "text/plain": [
              "<Figure size 1000x600 with 2 Axes>"
            ]
          },
          "metadata": {},
          "output_type": "display_data"
        }
      ],
      "source": [
        "%%time\n",
        "SVM_classifier(x_train, x_test, y_train, y_test)"
      ]
    },
    {
      "cell_type": "markdown",
      "metadata": {
        "id": "zoQs0hHIuwF8"
      },
      "source": [
        "# prediction"
      ]
    },
    {
      "cell_type": "code",
      "execution_count": 43,
      "metadata": {
        "id": "QWzgl2uOuw-V"
      },
      "outputs": [],
      "source": [
        "url = 'https://www.presstv.ir/Detail/2023/04/28/702388/\\\n",
        "No-trace-toxic-substances-found-schools-Iran-Intelligence-Ministry'\n",
        "\n",
        "soup = get_html(url)\n",
        "features = create_page_feature(soup)\n",
        "features['normalize_depth'] = zscore(features['depth'])\n",
        "\n",
        "features[features[\"label\"] == 2][\"label\"] = 0\n",
        "features['content lengh'] = features['content lengh'].astype(int)\n",
        "features['depth'] = dataset['depth'].astype(int)\n",
        "features['title_similarity'] = dataset['title_similarity'].astype(float)\n",
        "features['normalize_depth'] = features['normalize_depth'].astype(float)\n",
        "features['words in content'] = features['words in content'].astype(float)\n",
        "features['label'] = features['label'].astype(bool)\n",
        "\n",
        "X = features.drop(['label', 'content'],axis=1)\n",
        "y_pred = xgb_model.predict(X)"
      ]
    },
    {
      "cell_type": "code",
      "execution_count": 44,
      "metadata": {
        "id": "va8MYyiOyvOd"
      },
      "outputs": [],
      "source": [
        "main_content_index = [i for i, y in enumerate(y_pred) if y == 1]"
      ]
    },
    {
      "cell_type": "code",
      "execution_count": 45,
      "metadata": {
        "colab": {
          "base_uri": "https://localhost:8080/"
        },
        "id": "klAaKJ_hzIuh",
        "outputId": "5fd37dd5-a271-4c8e-fb7d-213b3078906e"
      },
      "outputs": [
        {
          "data": {
            "text/plain": [
              "[3]"
            ]
          },
          "execution_count": 45,
          "metadata": {},
          "output_type": "execute_result"
        }
      ],
      "source": [
        "main_content_index"
      ]
    },
    {
      "cell_type": "code",
      "execution_count": 46,
      "metadata": {
        "colab": {
          "base_uri": "https://localhost:8080/",
          "height": 53
        },
        "id": "TeY4e_k1xCTq",
        "outputId": "38920043-aa0c-431f-fced-6bac13da44a5"
      },
      "outputs": [
        {
          "data": {
            "application/vnd.google.colaboratory.intrinsic+json": {
              "type": "string"
            },
            "text/plain": [
              "'In a statement released on Friday, the Intelligence Ministry laid out the final results of a thorough investigation it ran into the mysterious incidents, which started in late November in the city of Qom, where about 50 female students fell ill and had to be transported to the hospital.'"
            ]
          },
          "execution_count": 46,
          "metadata": {},
          "output_type": "execute_result"
        }
      ],
      "source": [
        "features[\"content\"].iloc[main_content_index[0]]"
      ]
    },
    {
      "cell_type": "code",
      "execution_count": null,
      "metadata": {
        "id": "XP9Xf5wm99MS"
      },
      "outputs": [],
      "source": []
    }
  ],
  "metadata": {
    "colab": {
      "collapsed_sections": [
        "7l-pggwXVx0J"
      ],
      "provenance": [],
      "toc_visible": true
    },
    "kernelspec": {
      "display_name": "Python 3",
      "name": "python3"
    },
    "language_info": {
      "name": "python"
    }
  },
  "nbformat": 4,
  "nbformat_minor": 0
}

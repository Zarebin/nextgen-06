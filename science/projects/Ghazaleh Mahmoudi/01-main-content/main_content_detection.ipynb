{
  "nbformat": 4,
  "nbformat_minor": 0,
  "metadata": {
    "colab": {
      "provenance": [],
      "collapsed_sections": [
        "7l-pggwXVx0J"
      ],
      "toc_visible": true
    },
    "kernelspec": {
      "name": "python3",
      "display_name": "Python 3"
    },
    "language_info": {
      "name": "python"
    }
  },
  "cells": [
    {
      "cell_type": "markdown",
      "source": [
        "https://colab.research.google.com/drive/1qFmP0Nc2SkQphf8UM3KGtVSG4c3hg2Vp?usp=sharing"
      ],
      "metadata": {
        "id": "J0A6faYwpWIg"
      }
    },
    {
      "cell_type": "markdown",
      "source": [
        "# import"
      ],
      "metadata": {
        "id": "meFTi41DYb2y"
      }
    },
    {
      "cell_type": "code",
      "source": [
        "import re\n",
        "import os\n",
        "import csv\n",
        "import glob\n",
        "import base64\n",
        "import requests\n",
        "import numpy as np \n",
        "import pandas as pd\n",
        "from tqdm import tqdm\n",
        "from bs4 import BeautifulSoup\n",
        "from scipy.stats import zscore\n",
        "\n",
        "import warnings\n",
        "warnings.filterwarnings(\"ignore\")"
      ],
      "metadata": {
        "id": "QdDFF6WRuSaQ"
      },
      "execution_count": 59,
      "outputs": []
    },
    {
      "cell_type": "code",
      "source": [
        "%%capture\n",
        "!pip install --upgrade --no-cache-dir gdown\n",
        "! pip install tqdm"
      ],
      "metadata": {
        "id": "XHnFmYjNrbr8"
      },
      "execution_count": 9,
      "outputs": []
    },
    {
      "cell_type": "markdown",
      "source": [
        "# download and prepare data\n"
      ],
      "metadata": {
        "id": "TjY6h384K36N"
      }
    },
    {
      "cell_type": "code",
      "source": [
        "# OASIS subjects\n",
        "%%capture\n",
        "!gdown 1_iQKcOhqtCPrta3Cz0pjbO02C2VaQ4wV -O data.rar\n",
        "!mkdir subjects\n",
        "!unrar x \"/content/data.rar\" \"/content/subjects/\"\n",
        "!rm -r \"data.rar\"\n",
        "!mkdir dataset_contain_description\n",
        "!mkdir dataset_without_description"
      ],
      "metadata": {
        "id": "IGc_Y5uorv2_"
      },
      "execution_count": 10,
      "outputs": []
    },
    {
      "cell_type": "markdown",
      "source": [
        "# preprocess function"
      ],
      "metadata": {
        "id": "KtRNnqb_bJRI"
      }
    },
    {
      "cell_type": "markdown",
      "source": [
        "## feature extraction"
      ],
      "metadata": {
        "id": "EtXW5izOlund"
      }
    },
    {
      "cell_type": "code",
      "source": [
        "def get_html(url):\n",
        "    page = requests.get(url).content\n",
        "    soup = BeautifulSoup(page, \"html.parser\")\n",
        "    return soup\n",
        "\n",
        "def get_html_from_csv(file_path):\n",
        "    '''\n",
        "    Thos function get path of file as input and return \n",
        "    coressponding html for it.\n",
        "    Input : path to csv file\n",
        "    Output : parse html of all pages in csv\n",
        "    '''\n",
        "    site_name = (file_path.split('_')[0]).split('/')[-1]\n",
        "    html_doc = pd.read_csv(file_path, encoding='utf8', on_bad_lines='skip')\n",
        "\n",
        "    pages = []\n",
        "    for i, page_html in tqdm(html_doc.iterrows(), total=html_doc.shape[0]):\n",
        "        html_content = base64.b64decode(page_html['html'])\n",
        "        pages.append(BeautifulSoup(html_content, \"html.parser\"))\n",
        "    return pages\n",
        "\n",
        "def get_title(soup):\n",
        "    return soup.find('meta', {'property': 'og:title'})[\"content\"]\n",
        "\n",
        "def title_content_intersection_ratio(title, content):\n",
        "    title = np.array(title.split())\n",
        "    content = np.array(content.split())\n",
        "    intersection = np.intersect1d(title , content)\n",
        "    try:\n",
        "        return len(intersection)/len(content)\n",
        "    except:\n",
        "        return 0"
      ],
      "metadata": {
        "id": "HTfL5tOxMKw9"
      },
      "execution_count": 11,
      "outputs": []
    },
    {
      "cell_type": "markdown",
      "source": [
        "## crawl each page html"
      ],
      "metadata": {
        "id": "dveUeUN5lgye"
      }
    },
    {
      "cell_type": "code",
      "source": [
        "def create_page_feature(page):\n",
        "\n",
        "    content_list = []\n",
        "    title_content_intersection_ratio_list = []\n",
        "    content_depth_list = []\n",
        "    content_words_number_list = []\n",
        "    labels = []\n",
        "\n",
        "    soup = page\n",
        "\n",
        "    title = get_title(soup)\n",
        "    description = soup.find('meta', {'property': 'og:description'})[\"content\"]\n",
        "\n",
        "    def traverse(t, current_path=None):\n",
        "        if current_path is None:\n",
        "            current_path = [t.name]\n",
        "\n",
        "        for tag in t.find_all(recursive=False):\n",
        "            if not tag.find():        \n",
        "                    path = current_path + [tag.name, tag.find(string=True)]\n",
        "                    content = tag.find(string=True)\n",
        "                    if str(content) != 'None':\n",
        "                          content = tag.find(string=True).strip()\n",
        "\n",
        "                          if str(content) == description:\n",
        "                            labels.append(1)\n",
        "                          elif str(content) == title:\n",
        "                            labels.append(2)\n",
        "                          else:\n",
        "                            labels.append(0)\n",
        "                          \n",
        "                          content_list.append(str(content))\n",
        "                          content_depth_list.append(float(len(path)))\n",
        "                          content_words_number_list.append(len(str(content).split()))\n",
        "                          title_content_intersection_ratio_list.append(title_content_intersection_ratio(title, str(content)))\n",
        "                  \n",
        "            else:\n",
        "                traverse(tag, current_path + [tag.name])\n",
        "            \n",
        "\n",
        "    traverse(soup.body)\n",
        "\n",
        "\n",
        "    # z score normalize number of words\n",
        "    content_words_number_list = zscore(content_words_number_list)\n",
        "    \n",
        "    data_dict = {'content': content_list,\n",
        "                 'content lengh' : [len(c.split()) for c in content_list],\n",
        "                 'depth': content_depth_list,\n",
        "                 'title_content_intersection_ratio' : title_content_intersection_ratio_list ,\n",
        "                 'words in content': content_words_number_list, \n",
        "                 'label': labels}  \n",
        "\n",
        "\n",
        "    df_output = pd.DataFrame(data_dict)\n",
        "\n",
        "    # drop rows when len(content) <= 3\n",
        "    df_output = df_output[df_output['content lengh']>3]\n",
        "    df_output = df_output[df_output[\"title_content_intersection_ratio\"] > 0]\n",
        "\n",
        "    return df_output"
      ],
      "metadata": {
        "id": "HDsGJxeaGWis"
      },
      "execution_count": 12,
      "outputs": []
    },
    {
      "cell_type": "markdown",
      "source": [
        "## prepare training data"
      ],
      "metadata": {
        "id": "cTZka0PlllfC"
      }
    },
    {
      "cell_type": "code",
      "source": [
        "def prepare_training_data(webpage_path_list=['/content/subjects/tasnimnews_all.csv']):\n",
        "    feature_store = pd.DataFrame(columns=['content',\n",
        "                                            'content lengh',\n",
        "                                            'depth',\n",
        "                                            'title_content_intersection_ratio',\n",
        "                                            'words in content',\n",
        "                                            'label']) \n",
        " \n",
        "    for webpage_path in webpage_path_list:\n",
        "        feature_store_webpage = pd.DataFrame(columns=['content',\n",
        "                                                'content lengh',\n",
        "                                                'depth',\n",
        "                                                'title_content_intersection_ratio',\n",
        "                                                'words in content',\n",
        "                                                'label']) \n",
        "        print(webpage_path)\n",
        "        pages = get_html_from_csv(webpage_path)\n",
        "        \n",
        "        print(\"create feature\")\n",
        "        for page in tqdm(pages):\n",
        "            try:\n",
        "                feature_store_webpage = feature_store_webpage.append(create_page_feature(page)) \n",
        "            except:\n",
        "                continue\n",
        "            \n",
        "            #normal for each website\n",
        "            feature_store_webpage['depth_normalize'] = zscore(feature_store_webpage['depth'])\n",
        "        \n",
        "        feature_store = feature_store.append(feature_store_webpage)\n",
        "\n",
        "    feature_store.reset_index(drop=True, inplace=True)\n",
        "\n",
        "    return feature_store"
      ],
      "metadata": {
        "id": "GgpOerdkeqhr"
      },
      "execution_count": 13,
      "outputs": []
    },
    {
      "cell_type": "markdown",
      "source": [
        "# Trin model"
      ],
      "metadata": {
        "id": "kRwUb0Qr9w-8"
      }
    },
    {
      "cell_type": "code",
      "source": [
        "from sklearn.model_selection import train_test_split\n",
        "from sklearn.metrics import f1_score,roc_auc_score, accuracy_score, precision_score, recall_score, confusion_matrix\n",
        "\n",
        "import seaborn as sn\n",
        "import matplotlib.pyplot as plt\n",
        "plt.style.use('seaborn')"
      ],
      "metadata": {
        "id": "lbvUfYN593PX"
      },
      "execution_count": 54,
      "outputs": []
    },
    {
      "cell_type": "markdown",
      "source": [
        "## train_test_split"
      ],
      "metadata": {
        "id": "4SCoGVYin11U"
      }
    },
    {
      "cell_type": "code",
      "source": [
        "def train_test_split_(dataset):\n",
        "    dataset[dataset[\"label\"] == 2][\"label\"] = 0\n",
        "    dataset['content lengh'] = dataset['content lengh'].astype(int)\n",
        "    dataset['depth'] = dataset['depth'].astype(int)\n",
        "    dataset['title_content_intersection_ratio'] = dataset['title_content_intersection_ratio'].astype(float)\n",
        "    dataset['depth_normalize'] = dataset['depth_normalize'].astype(float)\n",
        "    dataset['words in content'] = dataset['words in content'].astype(float)\n",
        "    dataset['label'] = dataset['label'].astype(bool)\n",
        "    X = dataset.drop(['label', 'content'],axis=1)\n",
        "    y = dataset['label']\n",
        "    print(\"labels : \", y.value_counts())\n",
        "    x_train, x_test, y_train, y_test = train_test_split(X, y, random_state=42, test_size=0.25, shuffle=True)\n",
        "    return x_train, x_test, y_train, y_test"
      ],
      "metadata": {
        "id": "VgXMTjea-2JI"
      },
      "execution_count": 34,
      "outputs": []
    },
    {
      "cell_type": "markdown",
      "source": [
        "## Evaluation Metric"
      ],
      "metadata": {
        "id": "wqp3ZDUDnxZI"
      }
    },
    {
      "cell_type": "code",
      "source": [
        "def confusion_matrix_(test_labels, predicted_labels, version):\n",
        "    if not os.path.exists('result'):\n",
        "        os.makedirs('result')\n",
        "\n",
        "    print(\"\\nconfusion_matrix\\n\")\n",
        "    cm = confusion_matrix(test_labels, predicted_labels)\n",
        "    plt.subplots(figsize=(10, 6))\n",
        "    sn.heatmap(cm, annot = True, fmt = 'd', cmap=\"Blues\")\n",
        "    plt.xlabel(\"Predicted\")\n",
        "    plt.ylabel(\"Actual\")\n",
        "    plt.title(\"Confusion Matrix\")\n",
        "    plt.savefig(f'confusion_matrix_{version}.png', bbox_inches='tight')\n",
        "\n",
        "def model_result(y_test,y_pred, version):\n",
        "    ra_score = roc_auc_score(y_test,y_pred)\n",
        "    a_score = accuracy_score(y_test,y_pred)\n",
        "    p_score = precision_score(y_test,y_pred)\n",
        "    r_score = recall_score(y_test,y_pred)\n",
        "    f1 = f1_score(y_test,y_pred)\n",
        "    \n",
        "    print('roc_auc_score : ',ra_score)\n",
        "    print('accuracy_score: ',a_score)\n",
        "    print('precision_score: ',p_score)\n",
        "    print('recall_score: ',r_score)\n",
        "    print('f1-score :', f1)\n",
        "    print('confusion_matrix: ',confusion_matrix(y_test,y_pred))\n",
        "    confusion_matrix_(y_test,y_pred, version)"
      ],
      "metadata": {
        "id": "l80r77ch9x-c"
      },
      "execution_count": 16,
      "outputs": []
    },
    {
      "cell_type": "markdown",
      "source": [
        "## ML Classifier"
      ],
      "metadata": {
        "id": "YTGn1cK6oI5V"
      }
    },
    {
      "cell_type": "code",
      "source": [
        "%%capture\n",
        "!pip install catboost"
      ],
      "metadata": {
        "id": "fLQY53ybpBov"
      },
      "execution_count": 17,
      "outputs": []
    },
    {
      "cell_type": "code",
      "source": [
        "from sklearn.ensemble import ExtraTreesClassifier\n",
        "from sklearn.ensemble import RandomForestClassifier\n",
        "from catboost import CatBoostClassifier\n",
        "from sklearn.svm import SVC\n",
        "import xgboost as xgb\n",
        "\n",
        "def extra_tree_train(x_train, x_test, y_train, y_test):\n",
        "    clf = ExtraTreesClassifier(n_estimators=10, criterion='entropy', random_state=0)\n",
        "    #Train the model using the training sets\n",
        "    clf.fit(x_train, y_train)\n",
        "    y_pred = clf.predict(x_test.fillna(0))\n",
        "    model_result(y_test,y_pred, version='ExtraTreesClassifier_entropy')\n",
        "\n",
        "\n",
        "\n",
        "def random_forest_classifier(x_train, x_test, y_train, y_test):\n",
        "    random_forest_clf = RandomForestClassifier(max_depth=20)\n",
        "    #Train the model using the training sets\n",
        "    random_forest_clf.fit(x_train, y_train)\n",
        "    y_pred = random_forest_clf.predict(x_test.fillna(0))\n",
        "    model_result(y_test,y_pred, version='RandomForestClassifier')\n",
        "\n",
        "\n",
        "\n",
        "def catboost_classifier(x_train, x_test, y_train, y_test):\n",
        "    # initializing the model\n",
        "    cbc = CatBoostClassifier(iterations=100, max_depth=16)\n",
        "\n",
        "    # training the model\n",
        "    cbc.fit(x_train, y_train)\n",
        "    y_pred = cbc.predict(x_test)\n",
        "    model_result(y_test,y_pred, version='CatBoostClassifier')\n",
        "\n",
        "\n",
        "def xgboost_classifier(x_train, x_test, y_train, y_test):\n",
        "    xgb_cl = xgb.XGBClassifier()\n",
        "    xgb_cl.fit(x_train, y_train)\n",
        "    y_pred = xgb_cl.predict(x_test)\n",
        "    model_result(y_test,y_pred, version='XGBClassifier')\n",
        "    print(xgb_cl.feature_importances_)\n",
        "    return xgb_cl\n",
        "\n",
        "def SVM_classifier(x_train, x_test, y_train, y_test):\n",
        "    # define outlier detection model\n",
        "    svm_model = SVC()\n",
        "    svm_model.fit(x_train, y_train)\n",
        "    y_pred = svm_model.predict(x_test)\n",
        "    model_result(y_test,y_pred, version='SVMClassifier')"
      ],
      "metadata": {
        "id": "8ndlNKfoAio9"
      },
      "execution_count": 55,
      "outputs": []
    },
    {
      "cell_type": "markdown",
      "source": [
        "# Main"
      ],
      "metadata": {
        "id": "xx8gOzLwqX3M"
      }
    },
    {
      "cell_type": "code",
      "source": [
        "%%time\n",
        "warnings.filterwarnings(\"ignore\")\n",
        "dataset = prepare_training_data(['/content/subjects/ana_press_all.csv'])"
      ],
      "metadata": {
        "colab": {
          "base_uri": "https://localhost:8080/"
        },
        "id": "AW971t-wetfA",
        "outputId": "fcbbe076-1549-4b8d-bb03-2192c51561e7"
      },
      "execution_count": 19,
      "outputs": [
        {
          "output_type": "stream",
          "name": "stdout",
          "text": [
            "/content/subjects/ana_press_all.csv\n"
          ]
        },
        {
          "output_type": "stream",
          "name": "stderr",
          "text": [
            "100%|██████████| 1959/1959 [02:25<00:00, 13.45it/s]\n"
          ]
        },
        {
          "output_type": "stream",
          "name": "stdout",
          "text": [
            "create feature\n"
          ]
        },
        {
          "output_type": "stream",
          "name": "stderr",
          "text": [
            "100%|██████████| 1959/1959 [01:21<00:00, 24.05it/s]"
          ]
        },
        {
          "output_type": "stream",
          "name": "stdout",
          "text": [
            "CPU times: user 3min 33s, sys: 3.99 s, total: 3min 37s\n",
            "Wall time: 3min 53s\n"
          ]
        },
        {
          "output_type": "stream",
          "name": "stderr",
          "text": [
            "\n"
          ]
        }
      ]
    },
    {
      "cell_type": "code",
      "source": [
        "dataset"
      ],
      "metadata": {
        "colab": {
          "base_uri": "https://localhost:8080/",
          "height": 424
        },
        "id": "vZ_CAf2Wqiie",
        "outputId": "dd79341f-66a1-4f6f-a696-ace816f48a58"
      },
      "execution_count": 20,
      "outputs": [
        {
          "output_type": "execute_result",
          "data": {
            "text/plain": [
              "                                                 content content lengh  depth  \\\n",
              "0                               هرکه زورش بیش حقش بیشتر!             5   11.0   \n",
              "1      - اگرچه پیشرفت فیزیکی 97 درصدی داشته است- و هم...           450   10.0   \n",
              "2      ضریح حرم امام علی (ع) با بیش از ۱۰۰۰ شاخه گل ط...            16   14.0   \n",
              "3                               هرکه زورش بیش حقش بیشتر!             5   11.0   \n",
              "4      - اگرچه پیشرفت فیزیکی 97 درصدی داشته است- و هم...           450   10.0   \n",
              "...                                                  ...           ...    ...   \n",
              "61554                    رتبه چهارم ایران در رشته مهندسی             6   12.0   \n",
              "61555  عضو انجمن انفورماتیک ایران در گفت‌وگو با خبرگز...             9   12.0   \n",
              "61556            مشاوره رایگان در موسسه حقوقی تهران وکیل             7   10.0   \n",
              "61557               طلاق توافقی در گروه وکلای تهران طلاق             7   10.0   \n",
              "61558                          آموزش ارز دیجیتال در مشهد             5   10.0   \n",
              "\n",
              "       title_content_intersection_ratio  words in content label  \\\n",
              "0                              1.000000         -0.031898     2   \n",
              "1                              0.002222         18.174941     0   \n",
              "2                              0.062500          0.418159     0   \n",
              "3                              1.000000         -0.031898     2   \n",
              "4                              0.002222         18.174941     0   \n",
              "...                                 ...               ...   ...   \n",
              "61554                          0.166667          0.429863     0   \n",
              "61555                          0.111111          1.123753     0   \n",
              "61556                          0.142857          0.661159     0   \n",
              "61557                          0.142857          0.661159     0   \n",
              "61558                          0.200000          0.198566     0   \n",
              "\n",
              "       depth_normalize  \n",
              "0            -0.605162  \n",
              "1            -1.109264  \n",
              "2             0.907144  \n",
              "3            -0.605162  \n",
              "4            -1.109264  \n",
              "...                ...  \n",
              "61554        -0.101060  \n",
              "61555        -0.101060  \n",
              "61556        -1.109264  \n",
              "61557        -1.109264  \n",
              "61558        -1.109264  \n",
              "\n",
              "[61559 rows x 7 columns]"
            ],
            "text/html": [
              "\n",
              "  <div id=\"df-b93a307b-05dd-4e97-93bb-f9527a518b2c\">\n",
              "    <div class=\"colab-df-container\">\n",
              "      <div>\n",
              "<style scoped>\n",
              "    .dataframe tbody tr th:only-of-type {\n",
              "        vertical-align: middle;\n",
              "    }\n",
              "\n",
              "    .dataframe tbody tr th {\n",
              "        vertical-align: top;\n",
              "    }\n",
              "\n",
              "    .dataframe thead th {\n",
              "        text-align: right;\n",
              "    }\n",
              "</style>\n",
              "<table border=\"1\" class=\"dataframe\">\n",
              "  <thead>\n",
              "    <tr style=\"text-align: right;\">\n",
              "      <th></th>\n",
              "      <th>content</th>\n",
              "      <th>content lengh</th>\n",
              "      <th>depth</th>\n",
              "      <th>title_content_intersection_ratio</th>\n",
              "      <th>words in content</th>\n",
              "      <th>label</th>\n",
              "      <th>depth_normalize</th>\n",
              "    </tr>\n",
              "  </thead>\n",
              "  <tbody>\n",
              "    <tr>\n",
              "      <th>0</th>\n",
              "      <td>هرکه زورش بیش حقش بیشتر!</td>\n",
              "      <td>5</td>\n",
              "      <td>11.0</td>\n",
              "      <td>1.000000</td>\n",
              "      <td>-0.031898</td>\n",
              "      <td>2</td>\n",
              "      <td>-0.605162</td>\n",
              "    </tr>\n",
              "    <tr>\n",
              "      <th>1</th>\n",
              "      <td>- اگرچه پیشرفت فیزیکی 97 درصدی داشته است- و هم...</td>\n",
              "      <td>450</td>\n",
              "      <td>10.0</td>\n",
              "      <td>0.002222</td>\n",
              "      <td>18.174941</td>\n",
              "      <td>0</td>\n",
              "      <td>-1.109264</td>\n",
              "    </tr>\n",
              "    <tr>\n",
              "      <th>2</th>\n",
              "      <td>ضریح حرم امام علی (ع) با بیش از ۱۰۰۰ شاخه گل ط...</td>\n",
              "      <td>16</td>\n",
              "      <td>14.0</td>\n",
              "      <td>0.062500</td>\n",
              "      <td>0.418159</td>\n",
              "      <td>0</td>\n",
              "      <td>0.907144</td>\n",
              "    </tr>\n",
              "    <tr>\n",
              "      <th>3</th>\n",
              "      <td>هرکه زورش بیش حقش بیشتر!</td>\n",
              "      <td>5</td>\n",
              "      <td>11.0</td>\n",
              "      <td>1.000000</td>\n",
              "      <td>-0.031898</td>\n",
              "      <td>2</td>\n",
              "      <td>-0.605162</td>\n",
              "    </tr>\n",
              "    <tr>\n",
              "      <th>4</th>\n",
              "      <td>- اگرچه پیشرفت فیزیکی 97 درصدی داشته است- و هم...</td>\n",
              "      <td>450</td>\n",
              "      <td>10.0</td>\n",
              "      <td>0.002222</td>\n",
              "      <td>18.174941</td>\n",
              "      <td>0</td>\n",
              "      <td>-1.109264</td>\n",
              "    </tr>\n",
              "    <tr>\n",
              "      <th>...</th>\n",
              "      <td>...</td>\n",
              "      <td>...</td>\n",
              "      <td>...</td>\n",
              "      <td>...</td>\n",
              "      <td>...</td>\n",
              "      <td>...</td>\n",
              "      <td>...</td>\n",
              "    </tr>\n",
              "    <tr>\n",
              "      <th>61554</th>\n",
              "      <td>رتبه چهارم ایران در رشته مهندسی</td>\n",
              "      <td>6</td>\n",
              "      <td>12.0</td>\n",
              "      <td>0.166667</td>\n",
              "      <td>0.429863</td>\n",
              "      <td>0</td>\n",
              "      <td>-0.101060</td>\n",
              "    </tr>\n",
              "    <tr>\n",
              "      <th>61555</th>\n",
              "      <td>عضو انجمن انفورماتیک ایران در گفت‌وگو با خبرگز...</td>\n",
              "      <td>9</td>\n",
              "      <td>12.0</td>\n",
              "      <td>0.111111</td>\n",
              "      <td>1.123753</td>\n",
              "      <td>0</td>\n",
              "      <td>-0.101060</td>\n",
              "    </tr>\n",
              "    <tr>\n",
              "      <th>61556</th>\n",
              "      <td>مشاوره رایگان در موسسه حقوقی تهران وکیل</td>\n",
              "      <td>7</td>\n",
              "      <td>10.0</td>\n",
              "      <td>0.142857</td>\n",
              "      <td>0.661159</td>\n",
              "      <td>0</td>\n",
              "      <td>-1.109264</td>\n",
              "    </tr>\n",
              "    <tr>\n",
              "      <th>61557</th>\n",
              "      <td>طلاق توافقی در گروه وکلای تهران طلاق</td>\n",
              "      <td>7</td>\n",
              "      <td>10.0</td>\n",
              "      <td>0.142857</td>\n",
              "      <td>0.661159</td>\n",
              "      <td>0</td>\n",
              "      <td>-1.109264</td>\n",
              "    </tr>\n",
              "    <tr>\n",
              "      <th>61558</th>\n",
              "      <td>آموزش ارز دیجیتال در مشهد</td>\n",
              "      <td>5</td>\n",
              "      <td>10.0</td>\n",
              "      <td>0.200000</td>\n",
              "      <td>0.198566</td>\n",
              "      <td>0</td>\n",
              "      <td>-1.109264</td>\n",
              "    </tr>\n",
              "  </tbody>\n",
              "</table>\n",
              "<p>61559 rows × 7 columns</p>\n",
              "</div>\n",
              "      <button class=\"colab-df-convert\" onclick=\"convertToInteractive('df-b93a307b-05dd-4e97-93bb-f9527a518b2c')\"\n",
              "              title=\"Convert this dataframe to an interactive table.\"\n",
              "              style=\"display:none;\">\n",
              "        \n",
              "  <svg xmlns=\"http://www.w3.org/2000/svg\" height=\"24px\"viewBox=\"0 0 24 24\"\n",
              "       width=\"24px\">\n",
              "    <path d=\"M0 0h24v24H0V0z\" fill=\"none\"/>\n",
              "    <path d=\"M18.56 5.44l.94 2.06.94-2.06 2.06-.94-2.06-.94-.94-2.06-.94 2.06-2.06.94zm-11 1L8.5 8.5l.94-2.06 2.06-.94-2.06-.94L8.5 2.5l-.94 2.06-2.06.94zm10 10l.94 2.06.94-2.06 2.06-.94-2.06-.94-.94-2.06-.94 2.06-2.06.94z\"/><path d=\"M17.41 7.96l-1.37-1.37c-.4-.4-.92-.59-1.43-.59-.52 0-1.04.2-1.43.59L10.3 9.45l-7.72 7.72c-.78.78-.78 2.05 0 2.83L4 21.41c.39.39.9.59 1.41.59.51 0 1.02-.2 1.41-.59l7.78-7.78 2.81-2.81c.8-.78.8-2.07 0-2.86zM5.41 20L4 18.59l7.72-7.72 1.47 1.35L5.41 20z\"/>\n",
              "  </svg>\n",
              "      </button>\n",
              "      \n",
              "  <style>\n",
              "    .colab-df-container {\n",
              "      display:flex;\n",
              "      flex-wrap:wrap;\n",
              "      gap: 12px;\n",
              "    }\n",
              "\n",
              "    .colab-df-convert {\n",
              "      background-color: #E8F0FE;\n",
              "      border: none;\n",
              "      border-radius: 50%;\n",
              "      cursor: pointer;\n",
              "      display: none;\n",
              "      fill: #1967D2;\n",
              "      height: 32px;\n",
              "      padding: 0 0 0 0;\n",
              "      width: 32px;\n",
              "    }\n",
              "\n",
              "    .colab-df-convert:hover {\n",
              "      background-color: #E2EBFA;\n",
              "      box-shadow: 0px 1px 2px rgba(60, 64, 67, 0.3), 0px 1px 3px 1px rgba(60, 64, 67, 0.15);\n",
              "      fill: #174EA6;\n",
              "    }\n",
              "\n",
              "    [theme=dark] .colab-df-convert {\n",
              "      background-color: #3B4455;\n",
              "      fill: #D2E3FC;\n",
              "    }\n",
              "\n",
              "    [theme=dark] .colab-df-convert:hover {\n",
              "      background-color: #434B5C;\n",
              "      box-shadow: 0px 1px 3px 1px rgba(0, 0, 0, 0.15);\n",
              "      filter: drop-shadow(0px 1px 2px rgba(0, 0, 0, 0.3));\n",
              "      fill: #FFFFFF;\n",
              "    }\n",
              "  </style>\n",
              "\n",
              "      <script>\n",
              "        const buttonEl =\n",
              "          document.querySelector('#df-b93a307b-05dd-4e97-93bb-f9527a518b2c button.colab-df-convert');\n",
              "        buttonEl.style.display =\n",
              "          google.colab.kernel.accessAllowed ? 'block' : 'none';\n",
              "\n",
              "        async function convertToInteractive(key) {\n",
              "          const element = document.querySelector('#df-b93a307b-05dd-4e97-93bb-f9527a518b2c');\n",
              "          const dataTable =\n",
              "            await google.colab.kernel.invokeFunction('convertToInteractive',\n",
              "                                                     [key], {});\n",
              "          if (!dataTable) return;\n",
              "\n",
              "          const docLinkHtml = 'Like what you see? Visit the ' +\n",
              "            '<a target=\"_blank\" href=https://colab.research.google.com/notebooks/data_table.ipynb>data table notebook</a>'\n",
              "            + ' to learn more about interactive tables.';\n",
              "          element.innerHTML = '';\n",
              "          dataTable['output_type'] = 'display_data';\n",
              "          await google.colab.output.renderOutput(dataTable, element);\n",
              "          const docLink = document.createElement('div');\n",
              "          docLink.innerHTML = docLinkHtml;\n",
              "          element.appendChild(docLink);\n",
              "        }\n",
              "      </script>\n",
              "    </div>\n",
              "  </div>\n",
              "  "
            ]
          },
          "metadata": {},
          "execution_count": 20
        }
      ]
    },
    {
      "cell_type": "code",
      "source": [
        "%%time\n",
        "x_train, x_test, y_train, y_test = train_test_split_(dataset)"
      ],
      "metadata": {
        "colab": {
          "base_uri": "https://localhost:8080/"
        },
        "id": "qXSuB8RbpC4g",
        "outputId": "f5fb396a-b12f-46dc-fa88-d2b3dc4ef3f9"
      },
      "execution_count": 35,
      "outputs": [
        {
          "output_type": "stream",
          "name": "stdout",
          "text": [
            "labels :  False    58880\n",
            "True      2679\n",
            "Name: label, dtype: int64\n",
            "CPU times: user 30.8 ms, sys: 0 ns, total: 30.8 ms\n",
            "Wall time: 34.5 ms\n"
          ]
        }
      ]
    },
    {
      "cell_type": "code",
      "source": [
        "x_train"
      ],
      "metadata": {
        "colab": {
          "base_uri": "https://localhost:8080/",
          "height": 424
        },
        "id": "qQJM341nsqYY",
        "outputId": "11e27efb-6ba9-4118-896a-75d1ba3f23eb"
      },
      "execution_count": 40,
      "outputs": [
        {
          "output_type": "execute_result",
          "data": {
            "text/plain": [
              "       content lengh  depth  title_content_intersection_ratio  \\\n",
              "8649              14     14                          0.071429   \n",
              "6847               4      8                          0.250000   \n",
              "5504              12     10                          0.083333   \n",
              "31418              7      9                          0.142857   \n",
              "33392             20     14                          0.100000   \n",
              "...              ...    ...                               ...   \n",
              "54343             11     11                          0.090909   \n",
              "38158              4     11                          0.250000   \n",
              "860               17     14                          0.117647   \n",
              "15795             32     11                          0.062500   \n",
              "56422             51     10                          0.019608   \n",
              "\n",
              "       words in content  depth_normalize  \n",
              "8649           2.264910         0.907144  \n",
              "6847          -0.098473        -2.117467  \n",
              "5504           1.421924        -1.109264  \n",
              "31418          0.393396        -1.613365  \n",
              "33392          0.723152         0.907144  \n",
              "...                 ...              ...  \n",
              "54343          1.518079        -0.605162  \n",
              "38158         -0.096156        -0.605162  \n",
              "860            2.582708         0.907144  \n",
              "15795          3.792547        -0.605162  \n",
              "56422          6.725656        -1.109264  \n",
              "\n",
              "[46169 rows x 5 columns]"
            ],
            "text/html": [
              "\n",
              "  <div id=\"df-f3d97755-ed9d-4a1e-8f23-ab49ebccd93c\">\n",
              "    <div class=\"colab-df-container\">\n",
              "      <div>\n",
              "<style scoped>\n",
              "    .dataframe tbody tr th:only-of-type {\n",
              "        vertical-align: middle;\n",
              "    }\n",
              "\n",
              "    .dataframe tbody tr th {\n",
              "        vertical-align: top;\n",
              "    }\n",
              "\n",
              "    .dataframe thead th {\n",
              "        text-align: right;\n",
              "    }\n",
              "</style>\n",
              "<table border=\"1\" class=\"dataframe\">\n",
              "  <thead>\n",
              "    <tr style=\"text-align: right;\">\n",
              "      <th></th>\n",
              "      <th>content lengh</th>\n",
              "      <th>depth</th>\n",
              "      <th>title_content_intersection_ratio</th>\n",
              "      <th>words in content</th>\n",
              "      <th>depth_normalize</th>\n",
              "    </tr>\n",
              "  </thead>\n",
              "  <tbody>\n",
              "    <tr>\n",
              "      <th>8649</th>\n",
              "      <td>14</td>\n",
              "      <td>14</td>\n",
              "      <td>0.071429</td>\n",
              "      <td>2.264910</td>\n",
              "      <td>0.907144</td>\n",
              "    </tr>\n",
              "    <tr>\n",
              "      <th>6847</th>\n",
              "      <td>4</td>\n",
              "      <td>8</td>\n",
              "      <td>0.250000</td>\n",
              "      <td>-0.098473</td>\n",
              "      <td>-2.117467</td>\n",
              "    </tr>\n",
              "    <tr>\n",
              "      <th>5504</th>\n",
              "      <td>12</td>\n",
              "      <td>10</td>\n",
              "      <td>0.083333</td>\n",
              "      <td>1.421924</td>\n",
              "      <td>-1.109264</td>\n",
              "    </tr>\n",
              "    <tr>\n",
              "      <th>31418</th>\n",
              "      <td>7</td>\n",
              "      <td>9</td>\n",
              "      <td>0.142857</td>\n",
              "      <td>0.393396</td>\n",
              "      <td>-1.613365</td>\n",
              "    </tr>\n",
              "    <tr>\n",
              "      <th>33392</th>\n",
              "      <td>20</td>\n",
              "      <td>14</td>\n",
              "      <td>0.100000</td>\n",
              "      <td>0.723152</td>\n",
              "      <td>0.907144</td>\n",
              "    </tr>\n",
              "    <tr>\n",
              "      <th>...</th>\n",
              "      <td>...</td>\n",
              "      <td>...</td>\n",
              "      <td>...</td>\n",
              "      <td>...</td>\n",
              "      <td>...</td>\n",
              "    </tr>\n",
              "    <tr>\n",
              "      <th>54343</th>\n",
              "      <td>11</td>\n",
              "      <td>11</td>\n",
              "      <td>0.090909</td>\n",
              "      <td>1.518079</td>\n",
              "      <td>-0.605162</td>\n",
              "    </tr>\n",
              "    <tr>\n",
              "      <th>38158</th>\n",
              "      <td>4</td>\n",
              "      <td>11</td>\n",
              "      <td>0.250000</td>\n",
              "      <td>-0.096156</td>\n",
              "      <td>-0.605162</td>\n",
              "    </tr>\n",
              "    <tr>\n",
              "      <th>860</th>\n",
              "      <td>17</td>\n",
              "      <td>14</td>\n",
              "      <td>0.117647</td>\n",
              "      <td>2.582708</td>\n",
              "      <td>0.907144</td>\n",
              "    </tr>\n",
              "    <tr>\n",
              "      <th>15795</th>\n",
              "      <td>32</td>\n",
              "      <td>11</td>\n",
              "      <td>0.062500</td>\n",
              "      <td>3.792547</td>\n",
              "      <td>-0.605162</td>\n",
              "    </tr>\n",
              "    <tr>\n",
              "      <th>56422</th>\n",
              "      <td>51</td>\n",
              "      <td>10</td>\n",
              "      <td>0.019608</td>\n",
              "      <td>6.725656</td>\n",
              "      <td>-1.109264</td>\n",
              "    </tr>\n",
              "  </tbody>\n",
              "</table>\n",
              "<p>46169 rows × 5 columns</p>\n",
              "</div>\n",
              "      <button class=\"colab-df-convert\" onclick=\"convertToInteractive('df-f3d97755-ed9d-4a1e-8f23-ab49ebccd93c')\"\n",
              "              title=\"Convert this dataframe to an interactive table.\"\n",
              "              style=\"display:none;\">\n",
              "        \n",
              "  <svg xmlns=\"http://www.w3.org/2000/svg\" height=\"24px\"viewBox=\"0 0 24 24\"\n",
              "       width=\"24px\">\n",
              "    <path d=\"M0 0h24v24H0V0z\" fill=\"none\"/>\n",
              "    <path d=\"M18.56 5.44l.94 2.06.94-2.06 2.06-.94-2.06-.94-.94-2.06-.94 2.06-2.06.94zm-11 1L8.5 8.5l.94-2.06 2.06-.94-2.06-.94L8.5 2.5l-.94 2.06-2.06.94zm10 10l.94 2.06.94-2.06 2.06-.94-2.06-.94-.94-2.06-.94 2.06-2.06.94z\"/><path d=\"M17.41 7.96l-1.37-1.37c-.4-.4-.92-.59-1.43-.59-.52 0-1.04.2-1.43.59L10.3 9.45l-7.72 7.72c-.78.78-.78 2.05 0 2.83L4 21.41c.39.39.9.59 1.41.59.51 0 1.02-.2 1.41-.59l7.78-7.78 2.81-2.81c.8-.78.8-2.07 0-2.86zM5.41 20L4 18.59l7.72-7.72 1.47 1.35L5.41 20z\"/>\n",
              "  </svg>\n",
              "      </button>\n",
              "      \n",
              "  <style>\n",
              "    .colab-df-container {\n",
              "      display:flex;\n",
              "      flex-wrap:wrap;\n",
              "      gap: 12px;\n",
              "    }\n",
              "\n",
              "    .colab-df-convert {\n",
              "      background-color: #E8F0FE;\n",
              "      border: none;\n",
              "      border-radius: 50%;\n",
              "      cursor: pointer;\n",
              "      display: none;\n",
              "      fill: #1967D2;\n",
              "      height: 32px;\n",
              "      padding: 0 0 0 0;\n",
              "      width: 32px;\n",
              "    }\n",
              "\n",
              "    .colab-df-convert:hover {\n",
              "      background-color: #E2EBFA;\n",
              "      box-shadow: 0px 1px 2px rgba(60, 64, 67, 0.3), 0px 1px 3px 1px rgba(60, 64, 67, 0.15);\n",
              "      fill: #174EA6;\n",
              "    }\n",
              "\n",
              "    [theme=dark] .colab-df-convert {\n",
              "      background-color: #3B4455;\n",
              "      fill: #D2E3FC;\n",
              "    }\n",
              "\n",
              "    [theme=dark] .colab-df-convert:hover {\n",
              "      background-color: #434B5C;\n",
              "      box-shadow: 0px 1px 3px 1px rgba(0, 0, 0, 0.15);\n",
              "      filter: drop-shadow(0px 1px 2px rgba(0, 0, 0, 0.3));\n",
              "      fill: #FFFFFF;\n",
              "    }\n",
              "  </style>\n",
              "\n",
              "      <script>\n",
              "        const buttonEl =\n",
              "          document.querySelector('#df-f3d97755-ed9d-4a1e-8f23-ab49ebccd93c button.colab-df-convert');\n",
              "        buttonEl.style.display =\n",
              "          google.colab.kernel.accessAllowed ? 'block' : 'none';\n",
              "\n",
              "        async function convertToInteractive(key) {\n",
              "          const element = document.querySelector('#df-f3d97755-ed9d-4a1e-8f23-ab49ebccd93c');\n",
              "          const dataTable =\n",
              "            await google.colab.kernel.invokeFunction('convertToInteractive',\n",
              "                                                     [key], {});\n",
              "          if (!dataTable) return;\n",
              "\n",
              "          const docLinkHtml = 'Like what you see? Visit the ' +\n",
              "            '<a target=\"_blank\" href=https://colab.research.google.com/notebooks/data_table.ipynb>data table notebook</a>'\n",
              "            + ' to learn more about interactive tables.';\n",
              "          element.innerHTML = '';\n",
              "          dataTable['output_type'] = 'display_data';\n",
              "          await google.colab.output.renderOutput(dataTable, element);\n",
              "          const docLink = document.createElement('div');\n",
              "          docLink.innerHTML = docLinkHtml;\n",
              "          element.appendChild(docLink);\n",
              "        }\n",
              "      </script>\n",
              "    </div>\n",
              "  </div>\n",
              "  "
            ]
          },
          "metadata": {},
          "execution_count": 40
        }
      ]
    },
    {
      "cell_type": "code",
      "source": [
        "%%time\n",
        "extra_tree_train(x_train, x_test, y_train, y_test)"
      ],
      "metadata": {
        "id": "-5ob71leribw",
        "colab": {
          "base_uri": "https://localhost:8080/",
          "height": 736
        },
        "outputId": "a70e65de-946f-48cb-cd4f-63b30fcb7c50"
      },
      "execution_count": 22,
      "outputs": [
        {
          "output_type": "stream",
          "name": "stdout",
          "text": [
            "roc_auc_score :  0.9227377560710894\n",
            "accuracy_score:  0.9876543209876543\n",
            "precision_score:  0.8544891640866873\n",
            "recall_score:  0.8518518518518519\n",
            "f1-score : 0.8531684698608965\n",
            "confusion_matrix:  [[14648    94]\n",
            " [   96   552]]\n",
            "\n",
            "confusion_matrix\n",
            "\n"
          ]
        },
        {
          "output_type": "display_data",
          "data": {
            "text/plain": [
              "<Figure size 1000x600 with 2 Axes>"
            ],
            "image/png": "[encoded data removed]"
          },
          "metadata": {}
        }
      ]
    },
    {
      "cell_type": "code",
      "source": [
        "%%time\n",
        "random_forest_classifier(x_train, x_test, y_train, y_test)"
      ],
      "metadata": {
        "colab": {
          "base_uri": "https://localhost:8080/",
          "height": 770
        },
        "id": "zJy6RzN3qv07",
        "outputId": "0ef73f04-b61d-4196-bd42-5420753623f1"
      },
      "execution_count": 23,
      "outputs": [
        {
          "output_type": "stream",
          "name": "stdout",
          "text": [
            "roc_auc_score :  0.9222714014380681\n",
            "accuracy_score:  0.988174139051332\n",
            "precision_score:  0.8663522012578616\n",
            "recall_score:  0.8503086419753086\n",
            "f1-score : 0.8582554517133957\n",
            "confusion_matrix:  [[14657    85]\n",
            " [   97   551]]\n",
            "\n",
            "confusion_matrix\n",
            "\n",
            "CPU times: user 2.9 s, sys: 110 ms, total: 3.02 s\n",
            "Wall time: 2.91 s\n"
          ]
        },
        {
          "output_type": "display_data",
          "data": {
            "text/plain": [
              "<Figure size 1000x600 with 2 Axes>"
            ],
            "image/png": "[encoded data removed]"
          },
          "metadata": {}
        }
      ]
    },
    {
      "cell_type": "code",
      "source": [
        "%%time\n",
        "xgb_model = xgboost_classifier(x_train, x_test, y_train, y_test)"
      ],
      "metadata": {
        "colab": {
          "base_uri": "https://localhost:8080/",
          "height": 788
        },
        "id": "JQzKMLJvrFzu",
        "outputId": "4bf67c63-701e-45af-b421-26bd88b45f78"
      },
      "execution_count": 56,
      "outputs": [
        {
          "output_type": "stream",
          "name": "stdout",
          "text": [
            "roc_auc_score :  0.9235178401845068\n",
            "accuracy_score:  0.9891487979207277\n",
            "precision_score:  0.8860353130016051\n",
            "recall_score:  0.8518518518518519\n",
            "f1-score : 0.8686073957513768\n",
            "confusion_matrix:  [[14671    71]\n",
            " [   96   552]]\n",
            "\n",
            "confusion_matrix\n",
            "\n",
            "[0.1279301  0.47203737 0.3689408  0.03109166 0.        ]\n",
            "CPU times: user 3.74 s, sys: 112 ms, total: 3.85 s\n",
            "Wall time: 2.09 s\n"
          ]
        },
        {
          "output_type": "display_data",
          "data": {
            "text/plain": [
              "<Figure size 1000x600 with 2 Axes>"
            ],
            "image/png": "[encoded data removed]"
          },
          "metadata": {}
        }
      ]
    },
    {
      "cell_type": "code",
      "source": [
        "%%time\n",
        "SVM_classifier(x_train, x_test, y_train, y_test)"
      ],
      "metadata": {
        "colab": {
          "base_uri": "https://localhost:8080/",
          "height": 770
        },
        "id": "_kyxrB_GrNF6",
        "outputId": "7f2d1768-7d6b-4f8b-dde2-698d07f25c2b"
      },
      "execution_count": 26,
      "outputs": [
        {
          "output_type": "stream",
          "name": "stdout",
          "text": [
            "roc_auc_score :  0.750695292361959\n",
            "accuracy_score:  0.9774528914879792\n",
            "precision_score:  0.9287749287749287\n",
            "recall_score:  0.5030864197530864\n",
            "f1-score : 0.6526526526526526\n",
            "confusion_matrix:  [[14717    25]\n",
            " [  322   326]]\n",
            "\n",
            "confusion_matrix\n",
            "\n",
            "CPU times: user 8.74 s, sys: 110 ms, total: 8.85 s\n",
            "Wall time: 9.49 s\n"
          ]
        },
        {
          "output_type": "display_data",
          "data": {
            "text/plain": [
              "<Figure size 1000x600 with 2 Axes>"
            ],
            "image/png": "[encoded data removed]"
          },
          "metadata": {}
        }
      ]
    },
    {
      "cell_type": "markdown",
      "source": [
        "# prediction"
      ],
      "metadata": {
        "id": "zoQs0hHIuwF8"
      }
    },
    {
      "cell_type": "code",
      "source": [
        "url = 'https://www.presstv.ir/Detail/2023/04/28/702388/No-trace-toxic-substances-found-schools-Iran-Intelligence-Ministry'\n",
        "soup = get_html(url)\n",
        "features = create_page_feature(soup)\n",
        "features['depth_normalize'] = zscore(features['depth'])\n",
        "\n",
        "features[features[\"label\"] == 2][\"label\"] = 0\n",
        "features['content lengh'] = features['content lengh'].astype(int)\n",
        "features['depth'] = dataset['depth'].astype(int)\n",
        "features['title_content_intersection_ratio'] = dataset['title_content_intersection_ratio'].astype(float)\n",
        "features['depth_normalize'] = features['depth_normalize'].astype(float)\n",
        "features['words in content'] = features['words in content'].astype(float)\n",
        "features['label'] = features['label'].astype(bool)\n",
        "X = features.drop(['label', 'content'],axis=1)\n",
        "y_pred = xgb_model.predict(X)"
      ],
      "metadata": {
        "id": "QWzgl2uOuw-V"
      },
      "execution_count": 64,
      "outputs": []
    },
    {
      "cell_type": "code",
      "source": [
        "main_content_index = [i for i, y in enumerate(y_pred) if y == 1]"
      ],
      "metadata": {
        "id": "va8MYyiOyvOd"
      },
      "execution_count": 75,
      "outputs": []
    },
    {
      "cell_type": "code",
      "source": [
        "main_content_index"
      ],
      "metadata": {
        "colab": {
          "base_uri": "https://localhost:8080/"
        },
        "id": "klAaKJ_hzIuh",
        "outputId": "668cae29-68dc-43c7-8e47-e25e33efe943"
      },
      "execution_count": 76,
      "outputs": [
        {
          "output_type": "execute_result",
          "data": {
            "text/plain": [
              "[5]"
            ]
          },
          "metadata": {},
          "execution_count": 76
        }
      ]
    },
    {
      "cell_type": "code",
      "source": [
        "features[\"content\"].iloc[main_content_index[0]]"
      ],
      "metadata": {
        "colab": {
          "base_uri": "https://localhost:8080/",
          "height": 53
        },
        "id": "TeY4e_k1xCTq",
        "outputId": "2b3c4da2-d59a-483b-bc83-172d07788b01"
      },
      "execution_count": 80,
      "outputs": [
        {
          "output_type": "execute_result",
          "data": {
            "text/plain": [
              "'The ministry acknowledged that the incidents took place in the midst of violent riots after the death of 22-year-old Mahsa Amini in police custody in Tehran in mid-September.'"
            ],
            "application/vnd.google.colaboratory.intrinsic+json": {
              "type": "string"
            }
          },
          "metadata": {},
          "execution_count": 80
        }
      ]
    }
  ]
}